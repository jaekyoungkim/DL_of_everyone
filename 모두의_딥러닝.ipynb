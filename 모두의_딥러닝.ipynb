{
  "nbformat": 4,
  "nbformat_minor": 0,
  "metadata": {
    "colab": {
      "name": "모두의 딥러닝.ipynb",
      "provenance": [],
      "collapsed_sections": [],
      "authorship_tag": "ABX9TyPadTFMqs6NNnil4yQ4eiIz",
      "include_colab_link": true
    },
    "kernelspec": {
      "name": "python3",
      "display_name": "Python 3"
    },
    "language_info": {
      "name": "python"
    }
  },
  "cells": [
    {
      "cell_type": "markdown",
      "metadata": {
        "id": "view-in-github",
        "colab_type": "text"
      },
      "source": [
        "<a href=\"https://colab.research.google.com/github/jaekyoungkim/DL_of_everyone/blob/main/%EB%AA%A8%EB%91%90%EC%9D%98_%EB%94%A5%EB%9F%AC%EB%8B%9D.ipynb\" target=\"_parent\"><img src=\"https://colab.research.google.com/assets/colab-badge.svg\" alt=\"Open In Colab\"/></a>"
      ]
    },
    {
      "cell_type": "code",
      "execution_count": null,
      "metadata": {
        "id": "HBdwtxPEEpvj"
      },
      "outputs": [],
      "source": [
        ""
      ]
    },
    {
      "cell_type": "markdown",
      "source": [
        "### 1장 나의 첫 딥러닝 "
      ],
      "metadata": {
        "id": "ivKNNAuhoTN1"
      }
    },
    {
      "cell_type": "code",
      "source": [
        "# 폐암 수술 환자의 생존율 예측"
      ],
      "metadata": {
        "id": "b5f2BAjloWBs"
      },
      "execution_count": null,
      "outputs": []
    },
    {
      "cell_type": "code",
      "source": [
        "from tensorflow.keras.models import Sequential\n",
        "from tensorflow.keras.layers import Dense\n",
        "import numpy as np\n",
        "import tensorflow as tf"
      ],
      "metadata": {
        "id": "zHNH06Ko6ptO"
      },
      "execution_count": null,
      "outputs": []
    },
    {
      "cell_type": "code",
      "source": [
        "np.random.seed(3)\n",
        "tf.random.set_seed(3)"
      ],
      "metadata": {
        "id": "Mp-f_kY26yMK"
      },
      "execution_count": null,
      "outputs": []
    },
    {
      "cell_type": "code",
      "source": [
        "Data_set =np.loadtxt(\"data/ThoraricSurgery.csv\", delimiter =',')"
      ],
      "metadata": {
        "id": "MDhWVVvJ63x9"
      },
      "execution_count": null,
      "outputs": []
    },
    {
      "cell_type": "code",
      "source": [
        "Data_set"
      ],
      "metadata": {
        "colab": {
          "base_uri": "https://localhost:8080/"
        },
        "id": "2RZyJMQIoWPU",
        "outputId": "65de5536-5d39-4bc1-8cc1-a06576a81cda"
      },
      "execution_count": null,
      "outputs": [
        {
          "output_type": "execute_result",
          "data": {
            "text/plain": [
              "array([[293.  ,   1.  ,   3.8 , ...,   0.  ,  62.  ,   0.  ],\n",
              "       [  1.  ,   2.  ,   2.88, ...,   0.  ,  60.  ,   0.  ],\n",
              "       [  8.  ,   2.  ,   3.19, ...,   0.  ,  66.  ,   1.  ],\n",
              "       ...,\n",
              "       [406.  ,   6.  ,   5.36, ...,   0.  ,  62.  ,   0.  ],\n",
              "       [ 25.  ,   8.  ,   4.32, ...,   0.  ,  58.  ,   1.  ],\n",
              "       [447.  ,   8.  ,   5.2 , ...,   0.  ,  49.  ,   0.  ]])"
            ]
          },
          "metadata": {},
          "execution_count": 6
        }
      ]
    },
    {
      "cell_type": "code",
      "source": [
        "X=Data_set[:,0:17]\n",
        "Y=Data_set[:,17]"
      ],
      "metadata": {
        "id": "tTND4jFXoWR7"
      },
      "execution_count": null,
      "outputs": []
    },
    {
      "cell_type": "code",
      "source": [
        "Y"
      ],
      "metadata": {
        "colab": {
          "base_uri": "https://localhost:8080/"
        },
        "id": "ix8tR6CT-Hbz",
        "outputId": "ef9b0c90-b924-42cd-eed3-0a25cf4bebdd"
      },
      "execution_count": null,
      "outputs": [
        {
          "output_type": "execute_result",
          "data": {
            "text/plain": [
              "array([0., 0., 1., 1., 0., 0., 0., 1., 0., 0., 0., 0., 0., 0., 1., 0., 0.,\n",
              "       0., 0., 0., 0., 0., 0., 0., 0., 0., 1., 0., 0., 1., 1., 0., 0., 0.,\n",
              "       0., 0., 1., 0., 0., 1., 0., 0., 0., 1., 0., 1., 0., 0., 1., 0., 0.,\n",
              "       0., 0., 0., 0., 0., 1., 0., 1., 0., 0., 0., 0., 0., 0., 0., 0., 0.,\n",
              "       0., 0., 0., 0., 1., 0., 1., 0., 0., 0., 0., 0., 0., 0., 0., 0., 0.,\n",
              "       0., 1., 0., 0., 0., 0., 0., 0., 0., 1., 0., 1., 0., 0., 0., 0., 0.,\n",
              "       0., 0., 0., 0., 0., 0., 1., 0., 1., 0., 0., 0., 0., 0., 0., 0., 0.,\n",
              "       0., 0., 0., 0., 1., 0., 0., 0., 0., 1., 0., 0., 0., 0., 0., 0., 0.,\n",
              "       0., 0., 0., 0., 0., 0., 0., 0., 0., 0., 0., 1., 0., 0., 0., 0., 1.,\n",
              "       0., 0., 0., 0., 0., 0., 0., 0., 0., 0., 1., 1., 0., 0., 0., 0., 0.,\n",
              "       0., 0., 0., 0., 0., 0., 0., 0., 1., 0., 1., 0., 1., 0., 0., 0., 0.,\n",
              "       0., 0., 0., 0., 0., 0., 0., 0., 1., 0., 0., 1., 1., 0., 0., 0., 0.,\n",
              "       0., 0., 0., 0., 0., 0., 1., 0., 1., 0., 0., 0., 0., 0., 0., 0., 0.,\n",
              "       1., 0., 1., 0., 0., 0., 0., 0., 0., 0., 1., 0., 0., 0., 0., 0., 0.,\n",
              "       0., 0., 1., 0., 0., 0., 0., 0., 0., 0., 0., 1., 0., 0., 0., 0., 0.,\n",
              "       0., 1., 0., 1., 0., 0., 0., 0., 0., 0., 0., 0., 0., 0., 0., 0., 0.,\n",
              "       0., 0., 0., 0., 0., 1., 1., 0., 0., 0., 0., 1., 0., 0., 1., 0., 0.,\n",
              "       0., 0., 1., 0., 0., 0., 0., 0., 0., 1., 0., 0., 0., 0., 0., 0., 0.,\n",
              "       0., 0., 0., 1., 0., 0., 0., 0., 1., 0., 0., 0., 0., 0., 0., 1., 0.,\n",
              "       0., 0., 1., 0., 0., 0., 0., 0., 0., 0., 0., 0., 0., 0., 0., 0., 0.,\n",
              "       0., 0., 0., 0., 0., 1., 0., 0., 0., 0., 0., 0., 0., 0., 0., 0., 0.,\n",
              "       0., 0., 0., 0., 0., 0., 0., 0., 0., 0., 0., 1., 0., 0., 0., 0., 0.,\n",
              "       0., 0., 0., 0., 0., 0., 0., 0., 0., 0., 0., 0., 1., 0., 0., 0., 0.,\n",
              "       0., 0., 0., 0., 0., 0., 0., 0., 0., 0., 0., 0., 0., 0., 0., 1., 0.,\n",
              "       0., 1., 0., 1., 0., 0., 0., 1., 1., 0., 0., 0., 0., 0., 0., 0., 0.,\n",
              "       0., 0., 0., 0., 0., 0., 0., 0., 0., 0., 0., 0., 0., 0., 0., 0., 0.,\n",
              "       0., 1., 0., 0., 0., 0., 1., 0., 0., 1., 1., 0., 0., 1., 1., 0., 1.,\n",
              "       0., 0., 1., 1., 0., 0., 0., 0., 0., 1., 0.])"
            ]
          },
          "metadata": {},
          "execution_count": 14
        }
      ]
    },
    {
      "cell_type": "code",
      "source": [
        "model =Sequential()\n",
        "model.add(Dense(30, input_dim=17, activation = 'relu'))\n",
        "model.add(Dense(1,activation='sigmoid'))\n"
      ],
      "metadata": {
        "id": "c7ZamlPUoWUY"
      },
      "execution_count": null,
      "outputs": []
    },
    {
      "cell_type": "code",
      "source": [
        "model.compile(loss='binary_crossentropy', optimizer ='adam', metrics=['accuracy'])\n",
        "model.fit(X,Y, epochs=100, batch_size =10)"
      ],
      "metadata": {
        "colab": {
          "base_uri": "https://localhost:8080/"
        },
        "id": "cxmPNhoN9K_p",
        "outputId": "20eded91-6898-4242-ca96-d5646b0324ff"
      },
      "execution_count": null,
      "outputs": [
        {
          "output_type": "stream",
          "name": "stdout",
          "text": [
            "Epoch 1/100\n",
            "47/47 [==============================] - 0s 2ms/step - loss: 6.3049 - accuracy: 0.4596\n",
            "Epoch 2/100\n",
            "47/47 [==============================] - 0s 2ms/step - loss: 0.6444 - accuracy: 0.8426\n",
            "Epoch 3/100\n",
            "47/47 [==============================] - 0s 2ms/step - loss: 0.5007 - accuracy: 0.8447\n",
            "Epoch 4/100\n",
            "47/47 [==============================] - 0s 2ms/step - loss: 0.4919 - accuracy: 0.8489\n",
            "Epoch 5/100\n",
            "47/47 [==============================] - 0s 2ms/step - loss: 0.4682 - accuracy: 0.8511\n",
            "Epoch 6/100\n",
            "47/47 [==============================] - 0s 2ms/step - loss: 0.4578 - accuracy: 0.8511\n",
            "Epoch 7/100\n",
            "47/47 [==============================] - 0s 2ms/step - loss: 0.4582 - accuracy: 0.8489\n",
            "Epoch 8/100\n",
            "47/47 [==============================] - 0s 2ms/step - loss: 0.4567 - accuracy: 0.8511\n",
            "Epoch 9/100\n",
            "47/47 [==============================] - 0s 2ms/step - loss: 0.4489 - accuracy: 0.8489\n",
            "Epoch 10/100\n",
            "47/47 [==============================] - 0s 1ms/step - loss: 0.4525 - accuracy: 0.8489\n",
            "Epoch 11/100\n",
            "47/47 [==============================] - 0s 1ms/step - loss: 0.4642 - accuracy: 0.8511\n",
            "Epoch 12/100\n",
            "47/47 [==============================] - 0s 1ms/step - loss: 0.4625 - accuracy: 0.8532\n",
            "Epoch 13/100\n",
            "47/47 [==============================] - 0s 2ms/step - loss: 0.4648 - accuracy: 0.8511\n",
            "Epoch 14/100\n",
            "47/47 [==============================] - 0s 2ms/step - loss: 0.4547 - accuracy: 0.8426\n",
            "Epoch 15/100\n",
            "47/47 [==============================] - 0s 2ms/step - loss: 0.4922 - accuracy: 0.8383\n",
            "Epoch 16/100\n",
            "47/47 [==============================] - 0s 1ms/step - loss: 0.4669 - accuracy: 0.8489\n",
            "Epoch 17/100\n",
            "47/47 [==============================] - 0s 2ms/step - loss: 0.4708 - accuracy: 0.8511\n",
            "Epoch 18/100\n",
            "47/47 [==============================] - 0s 2ms/step - loss: 0.4382 - accuracy: 0.8489\n",
            "Epoch 19/100\n",
            "47/47 [==============================] - 0s 1ms/step - loss: 0.4434 - accuracy: 0.8511\n",
            "Epoch 20/100\n",
            "47/47 [==============================] - 0s 2ms/step - loss: 0.4500 - accuracy: 0.8468\n",
            "Epoch 21/100\n",
            "47/47 [==============================] - 0s 2ms/step - loss: 0.4435 - accuracy: 0.8511\n",
            "Epoch 22/100\n",
            "47/47 [==============================] - 0s 2ms/step - loss: 0.4361 - accuracy: 0.8511\n",
            "Epoch 23/100\n",
            "47/47 [==============================] - 0s 2ms/step - loss: 0.4287 - accuracy: 0.8489\n",
            "Epoch 24/100\n",
            "47/47 [==============================] - 0s 1ms/step - loss: 0.4403 - accuracy: 0.8489\n",
            "Epoch 25/100\n",
            "47/47 [==============================] - 0s 1ms/step - loss: 0.4334 - accuracy: 0.8511\n",
            "Epoch 26/100\n",
            "47/47 [==============================] - 0s 2ms/step - loss: 0.4429 - accuracy: 0.8489\n",
            "Epoch 27/100\n",
            "47/47 [==============================] - 0s 2ms/step - loss: 0.4435 - accuracy: 0.8511\n",
            "Epoch 28/100\n",
            "47/47 [==============================] - 0s 2ms/step - loss: 0.4312 - accuracy: 0.8511\n",
            "Epoch 29/100\n",
            "47/47 [==============================] - 0s 2ms/step - loss: 0.4261 - accuracy: 0.8511\n",
            "Epoch 30/100\n",
            "47/47 [==============================] - 0s 2ms/step - loss: 0.4213 - accuracy: 0.8511\n",
            "Epoch 31/100\n",
            "47/47 [==============================] - 0s 2ms/step - loss: 0.4461 - accuracy: 0.8511\n",
            "Epoch 32/100\n",
            "47/47 [==============================] - 0s 2ms/step - loss: 0.4260 - accuracy: 0.8511\n",
            "Epoch 33/100\n",
            "47/47 [==============================] - 0s 2ms/step - loss: 0.4366 - accuracy: 0.8511\n",
            "Epoch 34/100\n",
            "47/47 [==============================] - 0s 2ms/step - loss: 0.4166 - accuracy: 0.8511\n",
            "Epoch 35/100\n",
            "47/47 [==============================] - 0s 1ms/step - loss: 0.4309 - accuracy: 0.8511\n",
            "Epoch 36/100\n",
            "47/47 [==============================] - 0s 2ms/step - loss: 0.4230 - accuracy: 0.8511\n",
            "Epoch 37/100\n",
            "47/47 [==============================] - 0s 2ms/step - loss: 0.4447 - accuracy: 0.8511\n",
            "Epoch 38/100\n",
            "47/47 [==============================] - 0s 2ms/step - loss: 0.4251 - accuracy: 0.8511\n",
            "Epoch 39/100\n",
            "47/47 [==============================] - 0s 2ms/step - loss: 0.4674 - accuracy: 0.8468\n",
            "Epoch 40/100\n",
            "47/47 [==============================] - 0s 2ms/step - loss: 0.4133 - accuracy: 0.8511\n",
            "Epoch 41/100\n",
            "47/47 [==============================] - 0s 2ms/step - loss: 0.4291 - accuracy: 0.8511\n",
            "Epoch 42/100\n",
            "47/47 [==============================] - 0s 2ms/step - loss: 0.4455 - accuracy: 0.8511\n",
            "Epoch 43/100\n",
            "47/47 [==============================] - 0s 2ms/step - loss: 0.4157 - accuracy: 0.8511\n",
            "Epoch 44/100\n",
            "47/47 [==============================] - 0s 2ms/step - loss: 0.4106 - accuracy: 0.8489\n",
            "Epoch 45/100\n",
            "47/47 [==============================] - 0s 2ms/step - loss: 0.4131 - accuracy: 0.8511\n",
            "Epoch 46/100\n",
            "47/47 [==============================] - 0s 2ms/step - loss: 0.4129 - accuracy: 0.8511\n",
            "Epoch 47/100\n",
            "47/47 [==============================] - 0s 2ms/step - loss: 0.4206 - accuracy: 0.8426\n",
            "Epoch 48/100\n",
            "47/47 [==============================] - 0s 2ms/step - loss: 0.4108 - accuracy: 0.8511\n",
            "Epoch 49/100\n",
            "47/47 [==============================] - 0s 1ms/step - loss: 0.4131 - accuracy: 0.8511\n",
            "Epoch 50/100\n",
            "47/47 [==============================] - 0s 2ms/step - loss: 0.4177 - accuracy: 0.8447\n",
            "Epoch 51/100\n",
            "47/47 [==============================] - 0s 2ms/step - loss: 0.4228 - accuracy: 0.8532\n",
            "Epoch 52/100\n",
            "47/47 [==============================] - 0s 2ms/step - loss: 0.4057 - accuracy: 0.8532\n",
            "Epoch 53/100\n",
            "47/47 [==============================] - 0s 2ms/step - loss: 0.4180 - accuracy: 0.8489\n",
            "Epoch 54/100\n",
            "47/47 [==============================] - 0s 2ms/step - loss: 0.4161 - accuracy: 0.8489\n",
            "Epoch 55/100\n",
            "47/47 [==============================] - 0s 2ms/step - loss: 0.4162 - accuracy: 0.8511\n",
            "Epoch 56/100\n",
            "47/47 [==============================] - 0s 2ms/step - loss: 0.4009 - accuracy: 0.8511\n",
            "Epoch 57/100\n",
            "47/47 [==============================] - 0s 2ms/step - loss: 0.4141 - accuracy: 0.8532\n",
            "Epoch 58/100\n",
            "47/47 [==============================] - 0s 2ms/step - loss: 0.4079 - accuracy: 0.8532\n",
            "Epoch 59/100\n",
            "47/47 [==============================] - 0s 2ms/step - loss: 0.4050 - accuracy: 0.8532\n",
            "Epoch 60/100\n",
            "47/47 [==============================] - 0s 1ms/step - loss: 0.4038 - accuracy: 0.8489\n",
            "Epoch 61/100\n",
            "47/47 [==============================] - 0s 1ms/step - loss: 0.4145 - accuracy: 0.8511\n",
            "Epoch 62/100\n",
            "47/47 [==============================] - 0s 2ms/step - loss: 0.4301 - accuracy: 0.8468\n",
            "Epoch 63/100\n",
            "47/47 [==============================] - 0s 2ms/step - loss: 0.4124 - accuracy: 0.8532\n",
            "Epoch 64/100\n",
            "47/47 [==============================] - 0s 2ms/step - loss: 0.4339 - accuracy: 0.8511\n",
            "Epoch 65/100\n",
            "47/47 [==============================] - 0s 2ms/step - loss: 0.3959 - accuracy: 0.8489\n",
            "Epoch 66/100\n",
            "47/47 [==============================] - 0s 2ms/step - loss: 0.4387 - accuracy: 0.8468\n",
            "Epoch 67/100\n",
            "47/47 [==============================] - 0s 2ms/step - loss: 0.4221 - accuracy: 0.8489\n",
            "Epoch 68/100\n",
            "47/47 [==============================] - 0s 2ms/step - loss: 0.4114 - accuracy: 0.8511\n",
            "Epoch 69/100\n",
            "47/47 [==============================] - 0s 2ms/step - loss: 0.4100 - accuracy: 0.8511\n",
            "Epoch 70/100\n",
            "47/47 [==============================] - 0s 2ms/step - loss: 0.4068 - accuracy: 0.8553\n",
            "Epoch 71/100\n",
            "47/47 [==============================] - 0s 2ms/step - loss: 0.4074 - accuracy: 0.8489\n",
            "Epoch 72/100\n",
            "47/47 [==============================] - 0s 2ms/step - loss: 0.4248 - accuracy: 0.8340\n",
            "Epoch 73/100\n",
            "47/47 [==============================] - 0s 2ms/step - loss: 0.4056 - accuracy: 0.8511\n",
            "Epoch 74/100\n",
            "47/47 [==============================] - 0s 2ms/step - loss: 0.4004 - accuracy: 0.8532\n",
            "Epoch 75/100\n",
            "47/47 [==============================] - 0s 2ms/step - loss: 0.3966 - accuracy: 0.8553\n",
            "Epoch 76/100\n",
            "47/47 [==============================] - 0s 2ms/step - loss: 0.4144 - accuracy: 0.8574\n",
            "Epoch 77/100\n",
            "47/47 [==============================] - 0s 2ms/step - loss: 0.4245 - accuracy: 0.8468\n",
            "Epoch 78/100\n",
            "47/47 [==============================] - 0s 2ms/step - loss: 0.4123 - accuracy: 0.8511\n",
            "Epoch 79/100\n",
            "47/47 [==============================] - 0s 2ms/step - loss: 0.4258 - accuracy: 0.8426\n",
            "Epoch 80/100\n",
            "47/47 [==============================] - 0s 2ms/step - loss: 0.4121 - accuracy: 0.8532\n",
            "Epoch 81/100\n",
            "47/47 [==============================] - 0s 2ms/step - loss: 0.4131 - accuracy: 0.8511\n",
            "Epoch 82/100\n",
            "47/47 [==============================] - 0s 2ms/step - loss: 0.4231 - accuracy: 0.8553\n",
            "Epoch 83/100\n",
            "47/47 [==============================] - 0s 2ms/step - loss: 0.4010 - accuracy: 0.8532\n",
            "Epoch 84/100\n",
            "47/47 [==============================] - 0s 2ms/step - loss: 0.4393 - accuracy: 0.8426\n",
            "Epoch 85/100\n",
            "47/47 [==============================] - 0s 1ms/step - loss: 0.4124 - accuracy: 0.8532\n",
            "Epoch 86/100\n",
            "47/47 [==============================] - 0s 2ms/step - loss: 0.3978 - accuracy: 0.8489\n",
            "Epoch 87/100\n",
            "47/47 [==============================] - 0s 2ms/step - loss: 0.4026 - accuracy: 0.8511\n",
            "Epoch 88/100\n",
            "47/47 [==============================] - 0s 2ms/step - loss: 0.4073 - accuracy: 0.8532\n",
            "Epoch 89/100\n",
            "47/47 [==============================] - 0s 1ms/step - loss: 0.3956 - accuracy: 0.8511\n",
            "Epoch 90/100\n",
            "47/47 [==============================] - 0s 2ms/step - loss: 0.4011 - accuracy: 0.8532\n",
            "Epoch 91/100\n",
            "47/47 [==============================] - 0s 2ms/step - loss: 0.4232 - accuracy: 0.8532\n",
            "Epoch 92/100\n",
            "47/47 [==============================] - 0s 2ms/step - loss: 0.4306 - accuracy: 0.8489\n",
            "Epoch 93/100\n",
            "47/47 [==============================] - 0s 2ms/step - loss: 0.4011 - accuracy: 0.8511\n",
            "Epoch 94/100\n",
            "47/47 [==============================] - 0s 2ms/step - loss: 0.3958 - accuracy: 0.8532\n",
            "Epoch 95/100\n",
            "47/47 [==============================] - 0s 2ms/step - loss: 0.3943 - accuracy: 0.8511\n",
            "Epoch 96/100\n",
            "47/47 [==============================] - 0s 2ms/step - loss: 0.4268 - accuracy: 0.8468\n",
            "Epoch 97/100\n",
            "47/47 [==============================] - 0s 2ms/step - loss: 0.4207 - accuracy: 0.8511\n",
            "Epoch 98/100\n",
            "47/47 [==============================] - 0s 2ms/step - loss: 0.3931 - accuracy: 0.8596\n",
            "Epoch 99/100\n",
            "47/47 [==============================] - 0s 2ms/step - loss: 0.4099 - accuracy: 0.8553\n",
            "Epoch 100/100\n",
            "47/47 [==============================] - 0s 2ms/step - loss: 0.3913 - accuracy: 0.8511\n"
          ]
        },
        {
          "output_type": "execute_result",
          "data": {
            "text/plain": [
              "<keras.callbacks.History at 0x7f49763f2650>"
            ]
          },
          "metadata": {},
          "execution_count": 17
        }
      ]
    },
    {
      "cell_type": "code",
      "source": [
        ""
      ],
      "metadata": {
        "id": "K770c9tD-Ss0"
      },
      "execution_count": null,
      "outputs": []
    },
    {
      "cell_type": "markdown",
      "source": [
        "### 2장 딥러닝을 위한 기초수학 "
      ],
      "metadata": {
        "id": "jo421bxUoWsH"
      }
    },
    {
      "cell_type": "code",
      "source": [
        ""
      ],
      "metadata": {
        "id": "gS7T6zO2Fmqa"
      },
      "execution_count": null,
      "outputs": []
    },
    {
      "cell_type": "markdown",
      "source": [
        "### 3장 딥러닝의 동작원리 "
      ],
      "metadata": {
        "id": "UHr1NxmGIsfB"
      }
    },
    {
      "cell_type": "code",
      "source": [
        "import numpy as np\n",
        "x= [2,4,6,8]\n",
        "y= [81,93,91,97]\n",
        "\n",
        "mx =np.mean(x)\n",
        "my =np.mean(y)\n"
      ],
      "metadata": {
        "id": "m7szAUZs-Svi"
      },
      "execution_count": null,
      "outputs": []
    },
    {
      "cell_type": "code",
      "source": [
        "divisor = sum([(i-mx)**2 for i in x])"
      ],
      "metadata": {
        "id": "E08yH4NrJq6A"
      },
      "execution_count": null,
      "outputs": []
    },
    {
      "cell_type": "code",
      "source": [
        "divisor"
      ],
      "metadata": {
        "colab": {
          "base_uri": "https://localhost:8080/"
        },
        "id": "4D8zmEO-Jww9",
        "outputId": "16c8dd27-24ac-4b11-b612-a29a2f56fdbc"
      },
      "execution_count": null,
      "outputs": [
        {
          "output_type": "execute_result",
          "data": {
            "text/plain": [
              "20.0"
            ]
          },
          "metadata": {},
          "execution_count": 20
        }
      ]
    },
    {
      "cell_type": "code",
      "source": [
        "def top(x,mx,y,my):\n",
        "  d=0\n",
        "  for i in range(len(x)):\n",
        "    d +=(x[i]-mx) * (y[i]-my)\n",
        "  return d\n"
      ],
      "metadata": {
        "id": "zowfL9C2JyBm"
      },
      "execution_count": null,
      "outputs": []
    },
    {
      "cell_type": "code",
      "source": [
        "dividend = top(x,mx,y,my)"
      ],
      "metadata": {
        "id": "obWCzcMkKEzn"
      },
      "execution_count": null,
      "outputs": []
    },
    {
      "cell_type": "code",
      "source": [
        "a = dividend / divisor"
      ],
      "metadata": {
        "id": "C4AJs3ZEKHYs"
      },
      "execution_count": null,
      "outputs": []
    },
    {
      "cell_type": "code",
      "source": [
        "a"
      ],
      "metadata": {
        "colab": {
          "base_uri": "https://localhost:8080/"
        },
        "id": "twjFy8PQKJeP",
        "outputId": "5c521179-cf03-4da3-f352-a774992ff753"
      },
      "execution_count": null,
      "outputs": [
        {
          "output_type": "execute_result",
          "data": {
            "text/plain": [
              "2.3"
            ]
          },
          "metadata": {},
          "execution_count": 24
        }
      ]
    },
    {
      "cell_type": "code",
      "source": [
        "b = my - (mx * a)"
      ],
      "metadata": {
        "id": "AUq61M1GKJoU"
      },
      "execution_count": null,
      "outputs": []
    },
    {
      "cell_type": "code",
      "source": [
        "b"
      ],
      "metadata": {
        "colab": {
          "base_uri": "https://localhost:8080/"
        },
        "id": "8aPgmU-wKMUl",
        "outputId": "c07df2f7-db51-4804-de62-5737fb8d1f52"
      },
      "execution_count": null,
      "outputs": [
        {
          "output_type": "execute_result",
          "data": {
            "text/plain": [
              "79.0"
            ]
          },
          "metadata": {},
          "execution_count": 26
        }
      ]
    },
    {
      "cell_type": "code",
      "source": [
        "# 2.3x +79 = y"
      ],
      "metadata": {
        "id": "pHLxHENmKMdw"
      },
      "execution_count": null,
      "outputs": []
    },
    {
      "cell_type": "code",
      "source": [
        "# 평균제곱오차 코딩으로 확인"
      ],
      "metadata": {
        "id": "wkZrxwWQKOpi"
      },
      "execution_count": null,
      "outputs": []
    },
    {
      "cell_type": "code",
      "source": [
        "fake_a_b= [ 3,76]"
      ],
      "metadata": {
        "id": "DeDW0U9lNagt"
      },
      "execution_count": null,
      "outputs": []
    },
    {
      "cell_type": "code",
      "source": [
        "data = [[2,81], [4,93],[6,91],[8,97]]"
      ],
      "metadata": {
        "id": "cEt3q7vxNdfI"
      },
      "execution_count": null,
      "outputs": []
    },
    {
      "cell_type": "code",
      "source": [
        "x = [i[0] for i in data]\n",
        "y = [i[1] for i in data]"
      ],
      "metadata": {
        "id": "iBzRP29mNjmy"
      },
      "execution_count": null,
      "outputs": []
    },
    {
      "cell_type": "code",
      "source": [
        "x"
      ],
      "metadata": {
        "colab": {
          "base_uri": "https://localhost:8080/"
        },
        "id": "9L2j3J1-Nrqg",
        "outputId": "764ca2e2-2be6-40bc-8dab-b23a2090e069"
      },
      "execution_count": null,
      "outputs": [
        {
          "output_type": "execute_result",
          "data": {
            "text/plain": [
              "[2, 4, 6, 8]"
            ]
          },
          "metadata": {},
          "execution_count": 33
        }
      ]
    },
    {
      "cell_type": "code",
      "source": [
        "y"
      ],
      "metadata": {
        "colab": {
          "base_uri": "https://localhost:8080/"
        },
        "id": "zSRHl6EpNr9L",
        "outputId": "a3df7e6f-899d-46bb-b70d-820fbabb9100"
      },
      "execution_count": null,
      "outputs": [
        {
          "output_type": "execute_result",
          "data": {
            "text/plain": [
              "[81, 93, 91, 97]"
            ]
          },
          "metadata": {},
          "execution_count": 34
        }
      ]
    },
    {
      "cell_type": "code",
      "source": [
        "def predict(x):\n",
        "  return fake_a_b[0] * x + fake_a_b[1]"
      ],
      "metadata": {
        "id": "MJY2o8CnNsoo"
      },
      "execution_count": null,
      "outputs": []
    },
    {
      "cell_type": "code",
      "source": [
        "def mse(y, y_hat):\n",
        "  return ((y-y_hat)**2).mean()"
      ],
      "metadata": {
        "id": "FeFlISh-N2xB"
      },
      "execution_count": null,
      "outputs": []
    },
    {
      "cell_type": "code",
      "source": [
        "def mse_val(y, predict_result):\n",
        "  return mse(np.array(y), np.array(predict_result))"
      ],
      "metadata": {
        "id": "CYnnj2x0N67x"
      },
      "execution_count": null,
      "outputs": []
    },
    {
      "cell_type": "code",
      "source": [
        "predict_result =[]"
      ],
      "metadata": {
        "id": "RNsbhy5tOCrW"
      },
      "execution_count": null,
      "outputs": []
    },
    {
      "cell_type": "code",
      "source": [
        "for i in range(len(x)):\n",
        "  predict_result.append(predict(x[i]))\n",
        "  print(\"공부시간=%.f, 실제점수=%.f 예측점수=%.f\"%(x[i],y[i],predict(x[i])))"
      ],
      "metadata": {
        "colab": {
          "base_uri": "https://localhost:8080/"
        },
        "id": "XfB-JboyOVX-",
        "outputId": "0e63fb90-07ce-47be-99e0-117e24514675"
      },
      "execution_count": null,
      "outputs": [
        {
          "output_type": "stream",
          "name": "stdout",
          "text": [
            "공부시간=2, 실제점수=81 예측점수=82\n",
            "공부시간=4, 실제점수=93 예측점수=88\n",
            "공부시간=6, 실제점수=91 예측점수=94\n",
            "공부시간=8, 실제점수=97 예측점수=100\n"
          ]
        }
      ]
    },
    {
      "cell_type": "code",
      "source": [
        "print(\"mse 최종값:\",str(mse_val(predict_result, y)))"
      ],
      "metadata": {
        "colab": {
          "base_uri": "https://localhost:8080/"
        },
        "id": "kj-vz7U6Qgap",
        "outputId": "19926c1f-a908-4ce2-aaf8-b6c56287bebd"
      },
      "execution_count": null,
      "outputs": [
        {
          "output_type": "stream",
          "name": "stdout",
          "text": [
            "mse 최종값: 11.0\n"
          ]
        }
      ]
    },
    {
      "cell_type": "code",
      "source": [
        "# 오차 수정하기(경사하강법)"
      ],
      "metadata": {
        "id": "oPzPtLMuQ6a0"
      },
      "execution_count": null,
      "outputs": []
    },
    {
      "cell_type": "code",
      "source": [
        "x_data = np.array(x)\n",
        "x_data"
      ],
      "metadata": {
        "colab": {
          "base_uri": "https://localhost:8080/"
        },
        "id": "N7dpBqffRVWX",
        "outputId": "1b55ed8e-e066-4464-948c-4f95d5b9f8fc"
      },
      "execution_count": null,
      "outputs": [
        {
          "output_type": "execute_result",
          "data": {
            "text/plain": [
              "array([2, 4, 6, 8])"
            ]
          },
          "metadata": {},
          "execution_count": 59
        }
      ]
    },
    {
      "cell_type": "code",
      "source": [
        "y_data = np.array(y)\n",
        "y_data"
      ],
      "metadata": {
        "colab": {
          "base_uri": "https://localhost:8080/"
        },
        "id": "FYO9meNxbvK5",
        "outputId": "f4fba8a3-b96b-4a54-dade-3a9dceae512b"
      },
      "execution_count": null,
      "outputs": [
        {
          "output_type": "execute_result",
          "data": {
            "text/plain": [
              "array([81, 93, 91, 97])"
            ]
          },
          "metadata": {},
          "execution_count": 60
        }
      ]
    },
    {
      "cell_type": "code",
      "source": [
        "import matplotlib.pyplot as plt\n",
        "plt.scatter(x,y)\n",
        "plt.show()"
      ],
      "metadata": {
        "colab": {
          "base_uri": "https://localhost:8080/",
          "height": 265
        },
        "id": "OPlPS-opbycm",
        "outputId": "7c95b76d-9c5f-4e1c-fcc7-3a2cb6d9aa43"
      },
      "execution_count": null,
      "outputs": [
        {
          "output_type": "display_data",
          "data": {
            "image/png": "[encoded data removed]",
            "text/plain": [
              "<Figure size 432x288 with 1 Axes>"
            ]
          },
          "metadata": {
            "needs_background": "light"
          }
        }
      ]
    },
    {
      "cell_type": "code",
      "source": [
        "a= 0 \n",
        "b= 0\n",
        "# 초기값"
      ],
      "metadata": {
        "id": "1apm2rA5RVZw"
      },
      "execution_count": null,
      "outputs": []
    },
    {
      "cell_type": "code",
      "source": [
        "lr=0.03 # 학습률"
      ],
      "metadata": {
        "id": "9NHygPs6b7MT"
      },
      "execution_count": null,
      "outputs": []
    },
    {
      "cell_type": "code",
      "source": [
        "epochs=2001"
      ],
      "metadata": {
        "id": "TlKglGi5b872"
      },
      "execution_count": null,
      "outputs": []
    },
    {
      "cell_type": "code",
      "source": [
        "for i in range(epochs):\n",
        "  y_pred = a* x_data + b\n",
        "  error = y_data - y_pred\n",
        "  a_diff = -(2/len(x_data)) *  sum(x_data * error)  # 오차함수를 a 로 미분\n",
        "  b_diff = -(2/len(x_data)) * sum(error)  # 오차함수를  b 로 미분\n",
        "\n",
        "  a= a - lr*a_diff\n",
        "  b= b - lr*b_diff\n",
        "\n",
        "  if i %100 ==0 :\n",
        "    print(\"epoch=%.f, 기울기=%.04f, 절편=%0.04f\"%(i,a,b))\n",
        "  "
      ],
      "metadata": {
        "colab": {
          "base_uri": "https://localhost:8080/"
        },
        "id": "bpoqoo5ub-zm",
        "outputId": "bb9881fa-62c8-4a4c-9018-ca2bf99d0a03"
      },
      "execution_count": null,
      "outputs": [
        {
          "output_type": "stream",
          "name": "stdout",
          "text": [
            "epoch=0, 기울기=27.8400, 절편=5.4300\n",
            "epoch=100, 기울기=7.0739, 절편=50.5117\n",
            "epoch=200, 기울기=4.0960, 절편=68.2822\n",
            "epoch=300, 기울기=2.9757, 절편=74.9678\n",
            "epoch=400, 기울기=2.5542, 절편=77.4830\n",
            "epoch=500, 기울기=2.3956, 절편=78.4293\n",
            "epoch=600, 기울기=2.3360, 절편=78.7853\n",
            "epoch=700, 기울기=2.3135, 절편=78.9192\n",
            "epoch=800, 기울기=2.3051, 절편=78.9696\n",
            "epoch=900, 기울기=2.3019, 절편=78.9886\n",
            "epoch=1000, 기울기=2.3007, 절편=78.9957\n",
            "epoch=1100, 기울기=2.3003, 절편=78.9984\n",
            "epoch=1200, 기울기=2.3001, 절편=78.9994\n",
            "epoch=1300, 기울기=2.3000, 절편=78.9998\n",
            "epoch=1400, 기울기=2.3000, 절편=78.9999\n",
            "epoch=1500, 기울기=2.3000, 절편=79.0000\n",
            "epoch=1600, 기울기=2.3000, 절편=79.0000\n",
            "epoch=1700, 기울기=2.3000, 절편=79.0000\n",
            "epoch=1800, 기울기=2.3000, 절편=79.0000\n",
            "epoch=1900, 기울기=2.3000, 절편=79.0000\n",
            "epoch=2000, 기울기=2.3000, 절편=79.0000\n"
          ]
        }
      ]
    },
    {
      "cell_type": "code",
      "source": [
        "y_pred = a*x_data+b"
      ],
      "metadata": {
        "id": "vXqChYQacgQk"
      },
      "execution_count": null,
      "outputs": []
    },
    {
      "cell_type": "code",
      "source": [
        "plt.scatter(x,y)\n",
        "plt.plot([min(x_data), max(x_data)], [min(y_pred), max(y_pred)])\n",
        "plt.show()"
      ],
      "metadata": {
        "colab": {
          "base_uri": "https://localhost:8080/",
          "height": 265
        },
        "id": "hwua_lRHcjS6",
        "outputId": "06a96d9c-1ddb-478b-95a7-7326a58e5650"
      },
      "execution_count": null,
      "outputs": [
        {
          "output_type": "display_data",
          "data": {
            "image/png": "[encoded data removed]",
            "text/plain": [
              "<Figure size 432x288 with 1 Axes>"
            ]
          },
          "metadata": {
            "needs_background": "light"
          }
        }
      ]
    },
    {
      "cell_type": "code",
      "source": [
        "data = [[2,0,81],[4,4,93],[6,2,91],[8,3,97]]\n",
        "x1 = [i[0] for i in data]\n",
        "x2 = [i[1] for i in data]\n",
        "y = [i[2] for i in data]\n"
      ],
      "metadata": {
        "id": "NpizT7uOcp5D"
      },
      "execution_count": null,
      "outputs": []
    },
    {
      "cell_type": "code",
      "source": [
        "import matplotlib.pyplot as plt\n",
        "from mpl_toolkits import mplot3d"
      ],
      "metadata": {
        "id": "F6xQAfK2c_qJ"
      },
      "execution_count": null,
      "outputs": []
    },
    {
      "cell_type": "code",
      "source": [
        "ax = plt.axes(projection='3d')  #그래프 유형 정하기#\n",
        "ax.set_xlabel('study_hours')\n",
        "ax.set_ylabel('private_class')\n",
        "ax.set_zlabel('score')\n",
        "ax.scatter(x1,x2,y)\n",
        "plt.show()"
      ],
      "metadata": {
        "colab": {
          "base_uri": "https://localhost:8080/",
          "height": 248
        },
        "id": "5qJjK0A3dQxR",
        "outputId": "4c2a65bc-dfad-42c1-8a0c-3d6711089aa2"
      },
      "execution_count": null,
      "outputs": [
        {
          "output_type": "display_data",
          "data": {
            "image/png": "[encoded data removed]",
            "text/plain": [
              "<Figure size 432x288 with 1 Axes>"
            ]
          },
          "metadata": {
            "needs_background": "light"
          }
        }
      ]
    },
    {
      "cell_type": "code",
      "source": [
        "type(x1)"
      ],
      "metadata": {
        "colab": {
          "base_uri": "https://localhost:8080/"
        },
        "id": "neVd8PUEd3c4",
        "outputId": "94c7acb6-eedf-4a81-e4d5-bf09a8735970"
      },
      "execution_count": null,
      "outputs": [
        {
          "output_type": "execute_result",
          "data": {
            "text/plain": [
              "list"
            ]
          },
          "metadata": {},
          "execution_count": 92
        }
      ]
    },
    {
      "cell_type": "code",
      "source": [
        "x1_data = np.array(x1)\n",
        "x2_data = np.array(x2)\n",
        "y_data = np.array(y)\n"
      ],
      "metadata": {
        "id": "JaEIJKG8d5C-"
      },
      "execution_count": null,
      "outputs": []
    },
    {
      "cell_type": "code",
      "source": [
        "a1=0\n",
        "a2=0\n",
        "b=0\n",
        "epochs=2001\n",
        "lr =0.02\n",
        "for i in range(epochs):\n",
        "\n",
        "  y_pred = a1 * x1_data + a2 * x2_data + b\n",
        "  error = y_data - y_pred\n",
        "\n",
        "  a1_diff = -(2/len(x1_data)) * sum(x1_data * error)\n",
        "  a2_diff = -(2/len(x2_data)) * sum(x2_data * error)\n",
        "  b_diff = -(2/len(x1_data)) *  sum(y_data - y_pred)\n",
        "  a1 = a1 -lr * a1_diff\n",
        "  a2 = a2 -lr * a2_diff\n",
        "  b= b- lr * b_diff\n",
        "\n",
        "  if i%100 ==0:\n",
        "    print(\"epoch=%.f, 기울기1=%.04f, 기울기2=%.04f, 절편=%.04f\" % (i,a1,a2,b))"
      ],
      "metadata": {
        "colab": {
          "base_uri": "https://localhost:8080/"
        },
        "id": "Yb1elpRNc_s9",
        "outputId": "f914a960-d213-4174-ca42-f0306f812024"
      },
      "execution_count": null,
      "outputs": [
        {
          "output_type": "stream",
          "name": "stdout",
          "text": [
            "epoch=0, 기울기1=18.5600, 기울기2=8.4500, 절편=3.6200\n",
            "epoch=100, 기울기1=7.2994, 기울기2=4.2867, 절편=38.0427\n",
            "epoch=200, 기울기1=4.5683, 기울기2=3.3451, 절편=56.7901\n",
            "epoch=300, 기울기1=3.1235, 기울기2=2.8463, 절편=66.7100\n",
            "epoch=400, 기울기1=2.3591, 기울기2=2.5823, 절편=71.9589\n",
            "epoch=500, 기울기1=1.9546, 기울기2=2.4427, 절편=74.7362\n",
            "epoch=600, 기울기1=1.7405, 기울기2=2.3688, 절편=76.2058\n",
            "epoch=700, 기울기1=1.6273, 기울기2=2.3297, 절편=76.9833\n",
            "epoch=800, 기울기1=1.5673, 기울기2=2.3090, 절편=77.3948\n",
            "epoch=900, 기울기1=1.5356, 기울기2=2.2980, 절편=77.6125\n",
            "epoch=1000, 기울기1=1.5189, 기울기2=2.2922, 절편=77.7277\n",
            "epoch=1100, 기울기1=1.5100, 기울기2=2.2892, 절편=77.7886\n",
            "epoch=1200, 기울기1=1.5053, 기울기2=2.2875, 절편=77.8209\n",
            "epoch=1300, 기울기1=1.5028, 기울기2=2.2867, 절편=77.8380\n",
            "epoch=1400, 기울기1=1.5015, 기울기2=2.2862, 절편=77.8470\n",
            "epoch=1500, 기울기1=1.5008, 기울기2=2.2860, 절편=77.8518\n",
            "epoch=1600, 기울기1=1.5004, 기울기2=2.2859, 절편=77.8543\n",
            "epoch=1700, 기울기1=1.5002, 기울기2=2.2858, 절편=77.8556\n",
            "epoch=1800, 기울기1=1.5001, 기울기2=2.2858, 절편=77.8563\n",
            "epoch=1900, 기울기1=1.5001, 기울기2=2.2857, 절편=77.8567\n",
            "epoch=2000, 기울기1=1.5000, 기울기2=2.2857, 절편=77.8569\n"
          ]
        }
      ]
    },
    {
      "cell_type": "code",
      "source": [
        ""
      ],
      "metadata": {
        "id": "8vUo0-9ERVcb"
      },
      "execution_count": null,
      "outputs": []
    },
    {
      "cell_type": "markdown",
      "source": [
        "### 5장 참거짓 판단 : 로지스틱 회"
      ],
      "metadata": {
        "id": "yRrML95tqfnn"
      }
    },
    {
      "cell_type": "code",
      "source": [
        "# 시그모이드 함수 y= 1/(1+exp(-(ax+b)))\n",
        "#"
      ],
      "metadata": {
        "id": "7jskbr4nqi7K"
      },
      "execution_count": 1,
      "outputs": []
    },
    {
      "cell_type": "code",
      "source": [
        "data= [[2,0],[4,0],[6,0],[8,1],[10,1],[12,1],[14,1]]\n",
        "x_data = [i[0] for i in data]\n",
        "y_data = [i[1] for i in data]"
      ],
      "metadata": {
        "id": "4b47pdcPrjl0"
      },
      "execution_count": 25,
      "outputs": []
    },
    {
      "cell_type": "code",
      "source": [
        "x_data"
      ],
      "metadata": {
        "colab": {
          "base_uri": "https://localhost:8080/"
        },
        "id": "HgQ17tNzxT3j",
        "outputId": "b081d5b2-8c19-470c-bf93-78c6a23d7f5a"
      },
      "execution_count": 27,
      "outputs": [
        {
          "output_type": "execute_result",
          "data": {
            "text/plain": [
              "[2, 4, 6, 8, 10, 12, 14]"
            ]
          },
          "metadata": {},
          "execution_count": 27
        }
      ]
    },
    {
      "cell_type": "code",
      "source": [
        "y_data"
      ],
      "metadata": {
        "colab": {
          "base_uri": "https://localhost:8080/"
        },
        "id": "4P7UWUQQxU1Z",
        "outputId": "59b3e0a5-67df-4ff8-8a2b-206c5b48d883"
      },
      "execution_count": 28,
      "outputs": [
        {
          "output_type": "execute_result",
          "data": {
            "text/plain": [
              "[0, 0, 0, 1, 1, 1, 1]"
            ]
          },
          "metadata": {},
          "execution_count": 28
        }
      ]
    },
    {
      "cell_type": "code",
      "source": [
        "import matplotlib.pyplot as plt\n",
        "plt.scatter(x_data, y_data)\n",
        "plt.xlim(0,15)\n",
        "plt.ylim(-.1, 1.1)"
      ],
      "metadata": {
        "colab": {
          "base_uri": "https://localhost:8080/",
          "height": 283
        },
        "id": "W5pS9JoFua4e",
        "outputId": "7aa3e1d4-e3e7-44b7-9dee-e923df6c26df"
      },
      "execution_count": 3,
      "outputs": [
        {
          "output_type": "execute_result",
          "data": {
            "text/plain": [
              "(-0.1, 1.1)"
            ]
          },
          "metadata": {},
          "execution_count": 3
        },
        {
          "output_type": "display_data",
          "data": {
            "image/png": "[encoded data removed]",
            "text/plain": [
              "<Figure size 432x288 with 1 Axes>"
            ]
          },
          "metadata": {
            "needs_background": "light"
          }
        }
      ]
    },
    {
      "cell_type": "code",
      "source": [
        "a=0\n",
        "b=0\n",
        "lr = 0.05 # 학습률\n",
        "import numpy as np"
      ],
      "metadata": {
        "id": "UKXC3G63uhjs"
      },
      "execution_count": 7,
      "outputs": []
    },
    {
      "cell_type": "code",
      "source": [
        "def sigmoid(x):\n",
        "  return 1/(1+np.e **(-x))"
      ],
      "metadata": {
        "id": "uiJTW-S_ulQG"
      },
      "execution_count": 5,
      "outputs": []
    },
    {
      "cell_type": "code",
      "source": [
        "#경사 하강법 실행\n",
        "for i in range(2001):\n",
        "  for x_data, y_data in data:\n",
        "    a_diff =x_data * (sigmoid(a*x_data+b) - y_data)\n",
        "    b_diff =sigmoid(a* x_data +b) - y_data\n",
        "    a=a-lr*a_diff\n",
        "    b=b-lr*b_diff\n",
        "    if i%1000 == 0:\n",
        "      print(\"epoch=%f, 기울기=%.04f, 절편=%.04f\"% (i,a,b))\n"
      ],
      "metadata": {
        "colab": {
          "base_uri": "https://localhost:8080/"
        },
        "id": "VGVxTIsOupsH",
        "outputId": "65ff9350-e9cd-47f9-9bb3-a1de0d90cd2a"
      },
      "execution_count": 15,
      "outputs": [
        {
          "output_type": "stream",
          "name": "stdout",
          "text": [
            "epoch=0.000000, 기울기=2.5314, 절편=-17.4485\n",
            "epoch=0.000000, 기울기=2.5313, 절편=-17.4485\n",
            "epoch=0.000000, 기울기=2.5029, 절편=-17.4532\n",
            "epoch=0.000000, 기울기=2.5314, 절편=-17.4497\n",
            "epoch=0.000000, 기울기=2.5316, 절편=-17.4497\n",
            "epoch=0.000000, 기울기=2.5316, 절편=-17.4497\n",
            "epoch=0.000000, 기울기=2.5316, 절편=-17.4497\n",
            "epoch=1000.000000, 기울기=2.6841, 절편=-18.5366\n",
            "epoch=1000.000000, 기울기=2.6840, 절편=-18.5366\n",
            "epoch=1000.000000, 기울기=2.6598, 절편=-18.5407\n",
            "epoch=1000.000000, 기울기=2.6841, 절편=-18.5376\n",
            "epoch=1000.000000, 기울기=2.6842, 절편=-18.5376\n",
            "epoch=1000.000000, 기울기=2.6842, 절편=-18.5376\n",
            "epoch=1000.000000, 기울기=2.6842, 절편=-18.5376\n",
            "epoch=2000.000000, 기울기=2.8159, 절편=-19.4736\n",
            "epoch=2000.000000, 기울기=2.8159, 절편=-19.4736\n",
            "epoch=2000.000000, 기울기=2.7947, 절편=-19.4772\n",
            "epoch=2000.000000, 기울기=2.8159, 절편=-19.4745\n",
            "epoch=2000.000000, 기울기=2.8160, 절편=-19.4745\n",
            "epoch=2000.000000, 기울기=2.8160, 절편=-19.4745\n",
            "epoch=2000.000000, 기울기=2.8160, 절편=-19.4745\n"
          ]
        }
      ]
    },
    {
      "cell_type": "code",
      "source": [
        "i"
      ],
      "metadata": {
        "colab": {
          "base_uri": "https://localhost:8080/"
        },
        "id": "QQoUdpIBw_oj",
        "outputId": "48e9a7df-b8dd-4676-a769-92759a969e0e"
      },
      "execution_count": 17,
      "outputs": [
        {
          "output_type": "execute_result",
          "data": {
            "text/plain": [
              "2000"
            ]
          },
          "metadata": {},
          "execution_count": 17
        }
      ]
    },
    {
      "cell_type": "code",
      "source": [
        "a #기울기"
      ],
      "metadata": {
        "colab": {
          "base_uri": "https://localhost:8080/"
        },
        "id": "PHIgNZDRxAXx",
        "outputId": "eef5439f-54ec-4489-fec4-ba8f490b5498"
      },
      "execution_count": 19,
      "outputs": [
        {
          "output_type": "execute_result",
          "data": {
            "text/plain": [
              "2.8160309859140518"
            ]
          },
          "metadata": {},
          "execution_count": 19
        }
      ]
    },
    {
      "cell_type": "code",
      "source": [
        "b 3 절편"
      ],
      "metadata": {
        "colab": {
          "base_uri": "https://localhost:8080/"
        },
        "id": "NNtNVDnHxBCU",
        "outputId": "4cef582a-7c28-4f71-fd17-d9d2edb77948"
      },
      "execution_count": 20,
      "outputs": [
        {
          "output_type": "execute_result",
          "data": {
            "text/plain": [
              "-19.474503873281222"
            ]
          },
          "metadata": {},
          "execution_count": 20
        }
      ]
    },
    {
      "cell_type": "code",
      "source": [
        "plt.scatter(x_data, y_data)\n",
        "plt.xlim(0,15)\n",
        "plt.ylim(-.1,1.1)\n",
        "x_range = (np.arange(0,15, 0.1))  # 0-15까지 0.1간격으로 만든다\n",
        "plt.plot(np.arange(0,15,0.1), np.array([sigmoid(a*x+b) for x in x_range]))\n",
        "plt.show()"
      ],
      "metadata": {
        "colab": {
          "base_uri": "https://localhost:8080/",
          "height": 265
        },
        "id": "iFWiXcjcw3kY",
        "outputId": "faf0d92e-bde6-4899-d60b-9071126041ca"
      },
      "execution_count": 29,
      "outputs": [
        {
          "output_type": "display_data",
          "data": {
            "image/png": "[encoded data removed]",
            "text/plain": [
              "<Figure size 432x288 with 1 Axes>"
            ]
          },
          "metadata": {
            "needs_background": "light"
          }
        }
      ]
    },
    {
      "cell_type": "code",
      "source": [
        "np.arange(0,15, 0.1)"
      ],
      "metadata": {
        "colab": {
          "base_uri": "https://localhost:8080/"
        },
        "id": "edizOevFvU0l",
        "outputId": "9b5889e2-37bc-4d2f-ea14-6bf8d4035412"
      },
      "execution_count": 9,
      "outputs": [
        {
          "output_type": "execute_result",
          "data": {
            "text/plain": [
              "array([ 0. ,  0.1,  0.2,  0.3,  0.4,  0.5,  0.6,  0.7,  0.8,  0.9,  1. ,\n",
              "        1.1,  1.2,  1.3,  1.4,  1.5,  1.6,  1.7,  1.8,  1.9,  2. ,  2.1,\n",
              "        2.2,  2.3,  2.4,  2.5,  2.6,  2.7,  2.8,  2.9,  3. ,  3.1,  3.2,\n",
              "        3.3,  3.4,  3.5,  3.6,  3.7,  3.8,  3.9,  4. ,  4.1,  4.2,  4.3,\n",
              "        4.4,  4.5,  4.6,  4.7,  4.8,  4.9,  5. ,  5.1,  5.2,  5.3,  5.4,\n",
              "        5.5,  5.6,  5.7,  5.8,  5.9,  6. ,  6.1,  6.2,  6.3,  6.4,  6.5,\n",
              "        6.6,  6.7,  6.8,  6.9,  7. ,  7.1,  7.2,  7.3,  7.4,  7.5,  7.6,\n",
              "        7.7,  7.8,  7.9,  8. ,  8.1,  8.2,  8.3,  8.4,  8.5,  8.6,  8.7,\n",
              "        8.8,  8.9,  9. ,  9.1,  9.2,  9.3,  9.4,  9.5,  9.6,  9.7,  9.8,\n",
              "        9.9, 10. , 10.1, 10.2, 10.3, 10.4, 10.5, 10.6, 10.7, 10.8, 10.9,\n",
              "       11. , 11.1, 11.2, 11.3, 11.4, 11.5, 11.6, 11.7, 11.8, 11.9, 12. ,\n",
              "       12.1, 12.2, 12.3, 12.4, 12.5, 12.6, 12.7, 12.8, 12.9, 13. , 13.1,\n",
              "       13.2, 13.3, 13.4, 13.5, 13.6, 13.7, 13.8, 13.9, 14. , 14.1, 14.2,\n",
              "       14.3, 14.4, 14.5, 14.6, 14.7, 14.8, 14.9])"
            ]
          },
          "metadata": {},
          "execution_count": 9
        }
      ]
    },
    {
      "cell_type": "code",
      "source": [
        "x_data"
      ],
      "metadata": {
        "colab": {
          "base_uri": "https://localhost:8080/"
        },
        "id": "ybgJkLDFwDVg",
        "outputId": "1b44a988-41ee-47d6-f46e-7336c550e3d9"
      },
      "execution_count": 22,
      "outputs": [
        {
          "output_type": "execute_result",
          "data": {
            "text/plain": [
              "14"
            ]
          },
          "metadata": {},
          "execution_count": 22
        }
      ]
    },
    {
      "cell_type": "code",
      "source": [
        "y_data"
      ],
      "metadata": {
        "colab": {
          "base_uri": "https://localhost:8080/"
        },
        "id": "lNEBLZFdxPNI",
        "outputId": "41bb2a68-4134-4aa2-82e4-c91247ebd2c0"
      },
      "execution_count": 23,
      "outputs": [
        {
          "output_type": "execute_result",
          "data": {
            "text/plain": [
              "1"
            ]
          },
          "metadata": {},
          "execution_count": 23
        }
      ]
    },
    {
      "cell_type": "code",
      "source": [
        ""
      ],
      "metadata": {
        "id": "wmFf2rzVxPrH"
      },
      "execution_count": null,
      "outputs": []
    },
    {
      "cell_type": "markdown",
      "source": [
        "### 7장 다층 퍼셉트론 "
      ],
      "metadata": {
        "id": "F5Z0a4B9xnFE"
      }
    },
    {
      "cell_type": "code",
      "source": [
        "# 은닉층을 만들어 공간을 왜곡하면 두영역을 가로지르는 선이 직선으로 바뀌게됨\n",
        "# "
      ],
      "metadata": {
        "id": "wFMw7Z4zyKl8"
      },
      "execution_count": null,
      "outputs": []
    },
    {
      "cell_type": "code",
      "source": [
        "# 코딩으로 xor문제 해결하기"
      ],
      "metadata": {
        "id": "zTHHrlPGyJmC"
      },
      "execution_count": 30,
      "outputs": []
    },
    {
      "cell_type": "code",
      "source": [
        "#가중치와 바이어스\n",
        "import numpy as np\n",
        "w11= np.array([-2,-2])\n",
        "w12 = np.array([2,2])\n",
        "w2 = np.array([1,1])\n",
        "b1=3\n",
        "b2=-1\n",
        "b3=-1"
      ],
      "metadata": {
        "id": "LOygHD-T9T8u"
      },
      "execution_count": 46,
      "outputs": []
    },
    {
      "cell_type": "code",
      "source": [
        "x1 = 0\n",
        "x2 = 0"
      ],
      "metadata": {
        "id": "xM8CecvqxPow"
      },
      "execution_count": 53,
      "outputs": []
    },
    {
      "cell_type": "code",
      "source": [
        "MLP(3,5,2)"
      ],
      "metadata": {
        "colab": {
          "base_uri": "https://localhost:8080/"
        },
        "id": "RrpPHl7wxmLc",
        "outputId": "d6ac1edb-6c3a-4117-d72f-f4cd281177f9"
      },
      "execution_count": 55,
      "outputs": [
        {
          "output_type": "execute_result",
          "data": {
            "text/plain": [
              "1"
            ]
          },
          "metadata": {},
          "execution_count": 55
        }
      ]
    },
    {
      "cell_type": "code",
      "source": [
        "(1,2) * w12"
      ],
      "metadata": {
        "colab": {
          "base_uri": "https://localhost:8080/"
        },
        "id": "tcq_A_PTxyRS",
        "outputId": "a9e255b3-b5f3-46e1-fa0d-25545406c993"
      },
      "execution_count": 59,
      "outputs": [
        {
          "output_type": "execute_result",
          "data": {
            "text/plain": [
              "array([2, 4])"
            ]
          },
          "metadata": {},
          "execution_count": 59
        }
      ]
    },
    {
      "cell_type": "code",
      "source": [
        "np.sum((1,2) * w12)"
      ],
      "metadata": {
        "colab": {
          "base_uri": "https://localhost:8080/"
        },
        "id": "pk-og9kox4dj",
        "outputId": "e2fdf95e-21f6-4d66-cdf4-90abdb5f8198"
      },
      "execution_count": 60,
      "outputs": [
        {
          "output_type": "execute_result",
          "data": {
            "text/plain": [
              "6"
            ]
          },
          "metadata": {},
          "execution_count": 60
        }
      ]
    },
    {
      "cell_type": "code",
      "source": [
        "MLP(np.array([x1,x2]) , w11. b1)"
      ],
      "metadata": {
        "colab": {
          "base_uri": "https://localhost:8080/",
          "height": 172
        },
        "id": "3RNgATjQxKf5",
        "outputId": "28fa0dfb-5528-4839-bb40-e43a87bd0172"
      },
      "execution_count": 52,
      "outputs": [
        {
          "output_type": "error",
          "ename": "AttributeError",
          "evalue": "ignored",
          "traceback": [
            "\u001b[0;31m---------------------------------------------------------------------------\u001b[0m",
            "\u001b[0;31mAttributeError\u001b[0m                            Traceback (most recent call last)",
            "\u001b[0;32m<ipython-input-52-1d3731c26ce0>\u001b[0m in \u001b[0;36m<module>\u001b[0;34m()\u001b[0m\n\u001b[0;32m----> 1\u001b[0;31m \u001b[0mMLP\u001b[0m\u001b[0;34m(\u001b[0m\u001b[0mnp\u001b[0m\u001b[0;34m.\u001b[0m\u001b[0marray\u001b[0m\u001b[0;34m(\u001b[0m\u001b[0;34m[\u001b[0m\u001b[0mx1\u001b[0m\u001b[0;34m.\u001b[0m\u001b[0mx2\u001b[0m\u001b[0;34m]\u001b[0m\u001b[0;34m)\u001b[0m \u001b[0;34m,\u001b[0m \u001b[0mw11\u001b[0m\u001b[0;34m.\u001b[0m \u001b[0mb1\u001b[0m\u001b[0;34m)\u001b[0m\u001b[0;34m\u001b[0m\u001b[0;34m\u001b[0m\u001b[0m\n\u001b[0m",
            "\u001b[0;31mAttributeError\u001b[0m: 'int' object has no attribute 'x2'"
          ]
        }
      ]
    },
    {
      "cell_type": "code",
      "source": [
        "def MLP(x,w,b):\n",
        "  y=np.sum(w * x)+b\n",
        "  if y<=0:\n",
        "    return 0\n",
        "  else:\n",
        "    return 1\n",
        "  "
      ],
      "metadata": {
        "id": "QfwufLYr9gQX"
      },
      "execution_count": 41,
      "outputs": []
    },
    {
      "cell_type": "code",
      "source": [
        "# nand 게이트\n",
        "def NAND(x1,x2):\n",
        "  return MLP(np.array([x1,x2]) , w11, b1)\n",
        "\n",
        "# or 게이트\n",
        "def OR(x1,x2):\n",
        "  return MLP(np.array([x1,x2]),w12,b2)\n",
        "\n",
        "# and 게이트\n",
        "def AND(x1,x2):\n",
        "  return MLP(np.array([x1,x2]),w2,b3)\n",
        "\n",
        "# xor 게이트\n",
        "def XOR(x1,x2):\n",
        "  return AND(NAND(x1,x2), OR(x1,x2))"
      ],
      "metadata": {
        "id": "zYp2rKHz9nDA"
      },
      "execution_count": 67,
      "outputs": []
    },
    {
      "cell_type": "code",
      "source": [
        "# x1,x2값을 번갈아 대입하며 최종값 출력\n",
        "if __name__ == '__main__':\n",
        "  for x in [(0,0),(1,0),(0,1),(1,1)]:\n",
        "    y = XOR(x[0],x[1])\n",
        "    print(\"입력값:\" + str(x) + \"출력값:\" + str(y))"
      ],
      "metadata": {
        "colab": {
          "base_uri": "https://localhost:8080/"
        },
        "id": "aUrFxMksF-cP",
        "outputId": "66a4eea6-35fc-47df-bf30-af452655c0b6"
      },
      "execution_count": 68,
      "outputs": [
        {
          "output_type": "stream",
          "name": "stdout",
          "text": [
            "입력값:(0, 0)출력값:0\n",
            "입력값:(1, 0)출력값:1\n",
            "입력값:(0, 1)출력값:1\n",
            "입력값:(1, 1)출력값:0\n"
          ]
        }
      ]
    },
    {
      "cell_type": "code",
      "source": [
        ""
      ],
      "metadata": {
        "id": "QHYO6hYdGeGv"
      },
      "execution_count": null,
      "outputs": []
    },
    {
      "cell_type": "markdown",
      "source": [
        "### 8장 오차 역전파 "
      ],
      "metadata": {
        "id": "YWXbilL-_kYl"
      }
    },
    {
      "cell_type": "code",
      "source": [
        "# 오차 역전파는 경사하강법의 확장개념임\n",
        "# 환경변수지정 > 신경망 실행 > 결과를 실제값과 비교 > 출력층 가중치 수정 > 은닉층 가중치 수정 > 반복"
      ],
      "metadata": {
        "id": "fIS-kA_7xpUl"
      },
      "execution_count": 2,
      "outputs": []
    },
    {
      "cell_type": "code",
      "source": [
        ""
      ],
      "metadata": {
        "id": "1HDGqL6jIFeh"
      },
      "execution_count": null,
      "outputs": []
    },
    {
      "cell_type": "markdown",
      "source": [
        "### 9장 신경망에서 딥러닝으로 "
      ],
      "metadata": {
        "id": "obCGkzPzIH1E"
      }
    },
    {
      "cell_type": "code",
      "source": [
        "# gradient vanishing : 기울기의 값이 점점 작아져 맨 처음 층까지 전달되지 않는 기울기 소실 문제 발생\n",
        "# 이는 활성화 함수로 사용된 시그모이드 함수의 특성 떄문임\n",
        "# 이를 위해 시그모이드가 아닌 다른 함수들을 대체하기 시작 ex. tanh, relu softplus( log(1+exp(x)) )"
      ],
      "metadata": {
        "id": "b5Ws6qKSIJ3Q"
      },
      "execution_count": 5,
      "outputs": []
    },
    {
      "cell_type": "code",
      "source": [
        "# 속도와 정확도 문제를 해결하는 고급 경사 하강법\n",
        "# 1) sgd ( 확률적 경사 하강법) : 전체 데이터를 전부 사용하는 것이 아니라 랜덤하게 추출한 일부 데이터를 사용. 중간 결과의 진폭이 크고 불안정해 보일수 있음\n",
        "# 그러나 속도가 확연히 빠르면서도 최적해에 근사한 값을 찾아낸다는 장점\n",
        "# keras.optimizer.SGD(lr=0.1)"
      ],
      "metadata": {
        "id": "8NZ3-iFMIxCx"
      },
      "execution_count": 6,
      "outputs": []
    },
    {
      "cell_type": "code",
      "source": [
        "# 2) momentum : 관성 탄력  경사하강법에 탄력을 더해주는것 \n",
        "# keras.optimizers.SGD(lr=0.1, momentum =0.9) # 모멘텀 계수 추가"
      ],
      "metadata": {
        "id": "lucb68Z0MbNa"
      },
      "execution_count": 8,
      "outputs": []
    },
    {
      "cell_type": "code",
      "source": [
        "# 3)  nag(네스테로프 모멘텀) : 모멘텀이 이동시킬 방향으로 미리 이동해서 그레디언트를 계산, 불피요한 이동을 줄이는 효과\n",
        "# keras.optimizers.SGD(lr=0.1, momentum =0.9, nesterov=True)"
      ],
      "metadata": {
        "id": "BZC2-uJVMwTT"
      },
      "execution_count": 9,
      "outputs": []
    },
    {
      "cell_type": "code",
      "source": [
        "# 4) adagrad: 변수의 업데이트가 잦으면 학습률을 적게하여 이동 보폭을 조절하는 방법, 보폭크기 개선\n",
        "# keras.optimizers.Adagrad(lr=0.1, epsilon =1e-6)"
      ],
      "metadata": {
        "id": "9m12JSZNM6ww"
      },
      "execution_count": 10,
      "outputs": []
    },
    {
      "cell_type": "code",
      "source": [
        "# 5) RMSProp : adagrad의 보폭 민감도를 보완\n",
        "# keras.optimizers.RMSprop(lr=0.001, rho=0.9, epsilon = 1e-08, decay=0.0)"
      ],
      "metadata": {
        "id": "UryIKpvWNGjK"
      },
      "execution_count": 11,
      "outputs": []
    },
    {
      "cell_type": "code",
      "source": [
        "# 6) Adam : rmsprop + momentum 정확도와 보폭크기 개선\n",
        "# keras.optimizers.Adam(lr=0.01)  # 현재가장 많이 사용"
      ],
      "metadata": {
        "id": "GUL3ixClNQrs"
      },
      "execution_count": 13,
      "outputs": []
    },
    {
      "cell_type": "code",
      "source": [
        ""
      ],
      "metadata": {
        "id": "ZBJT8sX5Ndql"
      },
      "execution_count": null,
      "outputs": []
    },
    {
      "cell_type": "markdown",
      "source": [
        "### 10장 모델 설계하기 "
      ],
      "metadata": {
        "id": "QBt3crD8NeBi"
      }
    },
    {
      "cell_type": "code",
      "source": [
        "from tensorflow.keras.models import  Sequential\n",
        "from tensorflow.keras.layers import Dense\n",
        "import numpy as np\n",
        "import tensorflow as tf\n",
        "np.random.seed(3)\n",
        "tf.random.set_seed(3) "
      ],
      "metadata": {
        "id": "S4cA_1dUNg7g"
      },
      "execution_count": 15,
      "outputs": []
    },
    {
      "cell_type": "code",
      "source": [
        "Data_set =np.loadtxt(\"data/ThoraricSurgery.csv\", delimiter =',')"
      ],
      "metadata": {
        "id": "zOHvmNF7OF4S"
      },
      "execution_count": 16,
      "outputs": []
    },
    {
      "cell_type": "code",
      "source": [
        "X=Data_set[:,0:17]\n",
        "Y=Data_set[:,17]"
      ],
      "metadata": {
        "id": "UzdqmFGYNyhi"
      },
      "execution_count": 21,
      "outputs": []
    },
    {
      "cell_type": "code",
      "source": [
        "X.shape"
      ],
      "metadata": {
        "colab": {
          "base_uri": "https://localhost:8080/"
        },
        "id": "7KKqP9mOPm3Z",
        "outputId": "22a3e39c-497d-4278-e2df-3f4bd18cac34"
      },
      "execution_count": 28,
      "outputs": [
        {
          "output_type": "execute_result",
          "data": {
            "text/plain": [
              "(470, 17)"
            ]
          },
          "metadata": {},
          "execution_count": 28
        }
      ]
    },
    {
      "cell_type": "code",
      "source": [
        "X"
      ],
      "metadata": {
        "colab": {
          "base_uri": "https://localhost:8080/"
        },
        "id": "_M0oDhxfQHlS",
        "outputId": "7ee3b2a0-deca-4c04-b9fb-d4fd02e3b76e"
      },
      "execution_count": 29,
      "outputs": [
        {
          "output_type": "execute_result",
          "data": {
            "text/plain": [
              "array([[293.  ,   1.  ,   3.8 , ...,   1.  ,   0.  ,  62.  ],\n",
              "       [  1.  ,   2.  ,   2.88, ...,   1.  ,   0.  ,  60.  ],\n",
              "       [  8.  ,   2.  ,   3.19, ...,   1.  ,   0.  ,  66.  ],\n",
              "       ...,\n",
              "       [406.  ,   6.  ,   5.36, ...,   0.  ,   0.  ,  62.  ],\n",
              "       [ 25.  ,   8.  ,   4.32, ...,   0.  ,   0.  ,  58.  ],\n",
              "       [447.  ,   8.  ,   5.2 , ...,   0.  ,   0.  ,  49.  ]])"
            ]
          },
          "metadata": {},
          "execution_count": 29
        }
      ]
    },
    {
      "cell_type": "code",
      "source": [
        "Y.shape"
      ],
      "metadata": {
        "colab": {
          "base_uri": "https://localhost:8080/"
        },
        "id": "Xav6tRKBPoMs",
        "outputId": "01ed7e34-cd1d-44b6-bbe5-31021ddd1df5"
      },
      "execution_count": 30,
      "outputs": [
        {
          "output_type": "execute_result",
          "data": {
            "text/plain": [
              "(470,)"
            ]
          },
          "metadata": {},
          "execution_count": 30
        }
      ]
    },
    {
      "cell_type": "code",
      "source": [
        "Y"
      ],
      "metadata": {
        "colab": {
          "base_uri": "https://localhost:8080/"
        },
        "id": "6LGjp-IOQInF",
        "outputId": "71af12d4-ae49-4f9d-c9d6-9d4cb55fb7b7"
      },
      "execution_count": 31,
      "outputs": [
        {
          "output_type": "execute_result",
          "data": {
            "text/plain": [
              "array([0., 0., 1., 1., 0., 0., 0., 1., 0., 0., 0., 0., 0., 0., 1., 0., 0.,\n",
              "       0., 0., 0., 0., 0., 0., 0., 0., 0., 1., 0., 0., 1., 1., 0., 0., 0.,\n",
              "       0., 0., 1., 0., 0., 1., 0., 0., 0., 1., 0., 1., 0., 0., 1., 0., 0.,\n",
              "       0., 0., 0., 0., 0., 1., 0., 1., 0., 0., 0., 0., 0., 0., 0., 0., 0.,\n",
              "       0., 0., 0., 0., 1., 0., 1., 0., 0., 0., 0., 0., 0., 0., 0., 0., 0.,\n",
              "       0., 1., 0., 0., 0., 0., 0., 0., 0., 1., 0., 1., 0., 0., 0., 0., 0.,\n",
              "       0., 0., 0., 0., 0., 0., 1., 0., 1., 0., 0., 0., 0., 0., 0., 0., 0.,\n",
              "       0., 0., 0., 0., 1., 0., 0., 0., 0., 1., 0., 0., 0., 0., 0., 0., 0.,\n",
              "       0., 0., 0., 0., 0., 0., 0., 0., 0., 0., 0., 1., 0., 0., 0., 0., 1.,\n",
              "       0., 0., 0., 0., 0., 0., 0., 0., 0., 0., 1., 1., 0., 0., 0., 0., 0.,\n",
              "       0., 0., 0., 0., 0., 0., 0., 0., 1., 0., 1., 0., 1., 0., 0., 0., 0.,\n",
              "       0., 0., 0., 0., 0., 0., 0., 0., 1., 0., 0., 1., 1., 0., 0., 0., 0.,\n",
              "       0., 0., 0., 0., 0., 0., 1., 0., 1., 0., 0., 0., 0., 0., 0., 0., 0.,\n",
              "       1., 0., 1., 0., 0., 0., 0., 0., 0., 0., 1., 0., 0., 0., 0., 0., 0.,\n",
              "       0., 0., 1., 0., 0., 0., 0., 0., 0., 0., 0., 1., 0., 0., 0., 0., 0.,\n",
              "       0., 1., 0., 1., 0., 0., 0., 0., 0., 0., 0., 0., 0., 0., 0., 0., 0.,\n",
              "       0., 0., 0., 0., 0., 1., 1., 0., 0., 0., 0., 1., 0., 0., 1., 0., 0.,\n",
              "       0., 0., 1., 0., 0., 0., 0., 0., 0., 1., 0., 0., 0., 0., 0., 0., 0.,\n",
              "       0., 0., 0., 1., 0., 0., 0., 0., 1., 0., 0., 0., 0., 0., 0., 1., 0.,\n",
              "       0., 0., 1., 0., 0., 0., 0., 0., 0., 0., 0., 0., 0., 0., 0., 0., 0.,\n",
              "       0., 0., 0., 0., 0., 1., 0., 0., 0., 0., 0., 0., 0., 0., 0., 0., 0.,\n",
              "       0., 0., 0., 0., 0., 0., 0., 0., 0., 0., 0., 1., 0., 0., 0., 0., 0.,\n",
              "       0., 0., 0., 0., 0., 0., 0., 0., 0., 0., 0., 0., 1., 0., 0., 0., 0.,\n",
              "       0., 0., 0., 0., 0., 0., 0., 0., 0., 0., 0., 0., 0., 0., 0., 1., 0.,\n",
              "       0., 1., 0., 1., 0., 0., 0., 1., 1., 0., 0., 0., 0., 0., 0., 0., 0.,\n",
              "       0., 0., 0., 0., 0., 0., 0., 0., 0., 0., 0., 0., 0., 0., 0., 0., 0.,\n",
              "       0., 1., 0., 0., 0., 0., 1., 0., 0., 1., 1., 0., 0., 1., 1., 0., 1.,\n",
              "       0., 0., 1., 1., 0., 0., 0., 0., 0., 1., 0.])"
            ]
          },
          "metadata": {},
          "execution_count": 31
        }
      ]
    },
    {
      "cell_type": "code",
      "source": [
        "model =Sequential()  # model 시작을 알림\n",
        "# 두개의 층을 가진 모델 model.add 두줄\n",
        "model.add(Dense(30, input_dim=17, activation ='relu')) # 은닉층\n",
        "model.add(Dense(1, activation='sigmoid')) # 출력층\n",
        "# compile  :  모델이 효과적으로 구현될수 있게 여러가지 환경을 설정해주면서 컴파일 하는 부분\n",
        "model.compile(loss='mean_squared_error', optimizer='adam', metrics=['accuracy'])\n",
        "model.fit(X,Y, epochs=100, batch_size=10) # EPOCH 100 : 각 샘플이 처음부터 끝까지 100번 재사용될때까지 실행을 반복\n",
        "# BATCH_SIZE 10 : 샘플을 한번에 몇개씩 처리할지를 정하는 부분 470개의 샘플을 10개씩 끊어서 집어넣으라는 뜻\n",
        "# 배치사이즈가 너무 크면 학습속도 느려지고, 너무 작으면 각 실행값의 편차가 생겨 전체 결과값이 불안정해질수 있음"
      ],
      "metadata": {
        "colab": {
          "base_uri": "https://localhost:8080/"
        },
        "id": "equ9ChtvONas",
        "outputId": "2299300e-45e1-4c6f-d0a0-70d6aedcde1b"
      },
      "execution_count": 19,
      "outputs": [
        {
          "output_type": "stream",
          "name": "stdout",
          "text": [
            "Epoch 1/100\n",
            "47/47 [==============================] - 0s 1ms/step - loss: 0.1495 - accuracy: 0.8468\n",
            "Epoch 2/100\n",
            "47/47 [==============================] - 0s 1ms/step - loss: 0.1487 - accuracy: 0.8511\n",
            "Epoch 3/100\n",
            "47/47 [==============================] - 0s 1ms/step - loss: 0.1490 - accuracy: 0.8489\n",
            "Epoch 4/100\n",
            "47/47 [==============================] - 0s 1ms/step - loss: 0.1489 - accuracy: 0.8511\n",
            "Epoch 5/100\n",
            "47/47 [==============================] - 0s 2ms/step - loss: 0.1489 - accuracy: 0.8511\n",
            "Epoch 6/100\n",
            "47/47 [==============================] - 0s 2ms/step - loss: 0.1489 - accuracy: 0.8511\n",
            "Epoch 7/100\n",
            "47/47 [==============================] - 0s 2ms/step - loss: 0.1488 - accuracy: 0.8511\n",
            "Epoch 8/100\n",
            "47/47 [==============================] - 0s 1ms/step - loss: 0.1485 - accuracy: 0.8511\n",
            "Epoch 9/100\n",
            "47/47 [==============================] - 0s 1ms/step - loss: 0.1469 - accuracy: 0.8511\n",
            "Epoch 10/100\n",
            "47/47 [==============================] - 0s 1ms/step - loss: 0.1462 - accuracy: 0.8532\n",
            "Epoch 11/100\n",
            "47/47 [==============================] - 0s 1ms/step - loss: 0.1452 - accuracy: 0.8532\n",
            "Epoch 12/100\n",
            "47/47 [==============================] - 0s 2ms/step - loss: 0.1450 - accuracy: 0.8489\n",
            "Epoch 13/100\n",
            "47/47 [==============================] - 0s 1ms/step - loss: 0.1460 - accuracy: 0.8532\n",
            "Epoch 14/100\n",
            "47/47 [==============================] - 0s 1ms/step - loss: 0.1464 - accuracy: 0.8489\n",
            "Epoch 15/100\n",
            "47/47 [==============================] - 0s 2ms/step - loss: 0.1470 - accuracy: 0.8489\n",
            "Epoch 16/100\n",
            "47/47 [==============================] - 0s 1ms/step - loss: 0.1486 - accuracy: 0.8511\n",
            "Epoch 17/100\n",
            "47/47 [==============================] - 0s 1ms/step - loss: 0.1484 - accuracy: 0.8511\n",
            "Epoch 18/100\n",
            "47/47 [==============================] - 0s 2ms/step - loss: 0.1463 - accuracy: 0.8511\n",
            "Epoch 19/100\n",
            "47/47 [==============================] - 0s 1ms/step - loss: 0.1454 - accuracy: 0.8489\n",
            "Epoch 20/100\n",
            "47/47 [==============================] - 0s 2ms/step - loss: 0.1459 - accuracy: 0.8532\n",
            "Epoch 21/100\n",
            "47/47 [==============================] - 0s 2ms/step - loss: 0.1437 - accuracy: 0.8511\n",
            "Epoch 22/100\n",
            "47/47 [==============================] - 0s 1ms/step - loss: 0.1479 - accuracy: 0.8511\n",
            "Epoch 23/100\n",
            "47/47 [==============================] - 0s 1ms/step - loss: 0.1438 - accuracy: 0.8511\n",
            "Epoch 24/100\n",
            "47/47 [==============================] - 0s 2ms/step - loss: 0.1455 - accuracy: 0.8489\n",
            "Epoch 25/100\n",
            "47/47 [==============================] - 0s 1ms/step - loss: 0.1443 - accuracy: 0.8489\n",
            "Epoch 26/100\n",
            "47/47 [==============================] - 0s 1ms/step - loss: 0.1423 - accuracy: 0.8553\n",
            "Epoch 27/100\n",
            "47/47 [==============================] - 0s 2ms/step - loss: 0.1414 - accuracy: 0.8553\n",
            "Epoch 28/100\n",
            "47/47 [==============================] - 0s 1ms/step - loss: 0.1449 - accuracy: 0.8532\n",
            "Epoch 29/100\n",
            "47/47 [==============================] - 0s 1ms/step - loss: 0.1398 - accuracy: 0.8511\n",
            "Epoch 30/100\n",
            "47/47 [==============================] - 0s 1ms/step - loss: 0.1457 - accuracy: 0.8511\n",
            "Epoch 31/100\n",
            "47/47 [==============================] - 0s 1ms/step - loss: 0.1434 - accuracy: 0.8532\n",
            "Epoch 32/100\n",
            "47/47 [==============================] - 0s 2ms/step - loss: 0.1439 - accuracy: 0.8511\n",
            "Epoch 33/100\n",
            "47/47 [==============================] - 0s 1ms/step - loss: 0.1407 - accuracy: 0.8489\n",
            "Epoch 34/100\n",
            "47/47 [==============================] - 0s 2ms/step - loss: 0.1425 - accuracy: 0.8532\n",
            "Epoch 35/100\n",
            "47/47 [==============================] - 0s 2ms/step - loss: 0.1421 - accuracy: 0.8511\n",
            "Epoch 36/100\n",
            "47/47 [==============================] - 0s 1ms/step - loss: 0.1469 - accuracy: 0.8511\n",
            "Epoch 37/100\n",
            "47/47 [==============================] - 0s 1ms/step - loss: 0.1400 - accuracy: 0.8574\n",
            "Epoch 38/100\n",
            "47/47 [==============================] - 0s 2ms/step - loss: 0.1430 - accuracy: 0.8511\n",
            "Epoch 39/100\n",
            "47/47 [==============================] - 0s 1ms/step - loss: 0.1372 - accuracy: 0.8553\n",
            "Epoch 40/100\n",
            "47/47 [==============================] - 0s 2ms/step - loss: 0.1344 - accuracy: 0.8532\n",
            "Epoch 41/100\n",
            "47/47 [==============================] - 0s 1ms/step - loss: 0.1450 - accuracy: 0.8468\n",
            "Epoch 42/100\n",
            "47/47 [==============================] - 0s 1ms/step - loss: 0.1403 - accuracy: 0.8532\n",
            "Epoch 43/100\n",
            "47/47 [==============================] - 0s 2ms/step - loss: 0.1408 - accuracy: 0.8511\n",
            "Epoch 44/100\n",
            "47/47 [==============================] - 0s 2ms/step - loss: 0.1385 - accuracy: 0.8532\n",
            "Epoch 45/100\n",
            "47/47 [==============================] - 0s 1ms/step - loss: 0.1358 - accuracy: 0.8596\n",
            "Epoch 46/100\n",
            "47/47 [==============================] - 0s 1ms/step - loss: 0.1340 - accuracy: 0.8574\n",
            "Epoch 47/100\n",
            "47/47 [==============================] - 0s 2ms/step - loss: 0.1435 - accuracy: 0.8489\n",
            "Epoch 48/100\n",
            "47/47 [==============================] - 0s 2ms/step - loss: 0.1367 - accuracy: 0.8532\n",
            "Epoch 49/100\n",
            "47/47 [==============================] - 0s 2ms/step - loss: 0.1440 - accuracy: 0.8426\n",
            "Epoch 50/100\n",
            "47/47 [==============================] - 0s 1ms/step - loss: 0.1486 - accuracy: 0.8511\n",
            "Epoch 51/100\n",
            "47/47 [==============================] - 0s 1ms/step - loss: 0.1485 - accuracy: 0.8511\n",
            "Epoch 52/100\n",
            "47/47 [==============================] - 0s 2ms/step - loss: 0.1479 - accuracy: 0.8511\n",
            "Epoch 53/100\n",
            "47/47 [==============================] - 0s 2ms/step - loss: 0.1427 - accuracy: 0.8532\n",
            "Epoch 54/100\n",
            "47/47 [==============================] - 0s 2ms/step - loss: 0.1397 - accuracy: 0.8553\n",
            "Epoch 55/100\n",
            "47/47 [==============================] - 0s 2ms/step - loss: 0.1386 - accuracy: 0.8574\n",
            "Epoch 56/100\n",
            "47/47 [==============================] - 0s 2ms/step - loss: 0.1359 - accuracy: 0.8532\n",
            "Epoch 57/100\n",
            "47/47 [==============================] - 0s 2ms/step - loss: 0.1368 - accuracy: 0.8489\n",
            "Epoch 58/100\n",
            "47/47 [==============================] - 0s 1ms/step - loss: 0.1420 - accuracy: 0.8404\n",
            "Epoch 59/100\n",
            "47/47 [==============================] - 0s 1ms/step - loss: 0.1419 - accuracy: 0.8511\n",
            "Epoch 60/100\n",
            "47/47 [==============================] - 0s 2ms/step - loss: 0.1336 - accuracy: 0.8532\n",
            "Epoch 61/100\n",
            "47/47 [==============================] - 0s 2ms/step - loss: 0.1376 - accuracy: 0.8511\n",
            "Epoch 62/100\n",
            "47/47 [==============================] - 0s 2ms/step - loss: 0.1329 - accuracy: 0.8617\n",
            "Epoch 63/100\n",
            "47/47 [==============================] - 0s 1ms/step - loss: 0.1409 - accuracy: 0.8511\n",
            "Epoch 64/100\n",
            "47/47 [==============================] - 0s 1ms/step - loss: 0.1419 - accuracy: 0.8532\n",
            "Epoch 65/100\n",
            "47/47 [==============================] - 0s 1ms/step - loss: 0.1397 - accuracy: 0.8532\n",
            "Epoch 66/100\n",
            "47/47 [==============================] - 0s 2ms/step - loss: 0.1350 - accuracy: 0.8596\n",
            "Epoch 67/100\n",
            "47/47 [==============================] - 0s 1ms/step - loss: 0.1364 - accuracy: 0.8532\n",
            "Epoch 68/100\n",
            "47/47 [==============================] - 0s 1ms/step - loss: 0.1465 - accuracy: 0.8511\n",
            "Epoch 69/100\n",
            "47/47 [==============================] - 0s 2ms/step - loss: 0.1405 - accuracy: 0.8574\n",
            "Epoch 70/100\n",
            "47/47 [==============================] - 0s 2ms/step - loss: 0.1390 - accuracy: 0.8532\n",
            "Epoch 71/100\n",
            "47/47 [==============================] - 0s 1ms/step - loss: 0.1369 - accuracy: 0.8553\n",
            "Epoch 72/100\n",
            "47/47 [==============================] - 0s 1ms/step - loss: 0.1295 - accuracy: 0.8574\n",
            "Epoch 73/100\n",
            "47/47 [==============================] - 0s 2ms/step - loss: 0.1348 - accuracy: 0.8532\n",
            "Epoch 74/100\n",
            "47/47 [==============================] - 0s 1ms/step - loss: 0.1297 - accuracy: 0.8596\n",
            "Epoch 75/100\n",
            "47/47 [==============================] - 0s 1ms/step - loss: 0.1446 - accuracy: 0.8468\n",
            "Epoch 76/100\n",
            "47/47 [==============================] - 0s 2ms/step - loss: 0.1326 - accuracy: 0.8617\n",
            "Epoch 77/100\n",
            "47/47 [==============================] - 0s 1ms/step - loss: 0.1348 - accuracy: 0.8553\n",
            "Epoch 78/100\n",
            "47/47 [==============================] - 0s 1ms/step - loss: 0.1360 - accuracy: 0.8489\n",
            "Epoch 79/100\n",
            "47/47 [==============================] - 0s 1ms/step - loss: 0.1353 - accuracy: 0.8532\n",
            "Epoch 80/100\n",
            "47/47 [==============================] - 0s 1ms/step - loss: 0.1345 - accuracy: 0.8596\n",
            "Epoch 81/100\n",
            "47/47 [==============================] - 0s 1ms/step - loss: 0.1371 - accuracy: 0.8511\n",
            "Epoch 82/100\n",
            "47/47 [==============================] - 0s 2ms/step - loss: 0.1356 - accuracy: 0.8468\n",
            "Epoch 83/100\n",
            "47/47 [==============================] - 0s 1ms/step - loss: 0.1337 - accuracy: 0.8511\n",
            "Epoch 84/100\n",
            "47/47 [==============================] - 0s 2ms/step - loss: 0.1425 - accuracy: 0.8489\n",
            "Epoch 85/100\n",
            "47/47 [==============================] - 0s 2ms/step - loss: 0.1348 - accuracy: 0.8596\n",
            "Epoch 86/100\n",
            "47/47 [==============================] - 0s 2ms/step - loss: 0.1425 - accuracy: 0.8468\n",
            "Epoch 87/100\n",
            "47/47 [==============================] - 0s 2ms/step - loss: 0.1483 - accuracy: 0.8511\n",
            "Epoch 88/100\n",
            "47/47 [==============================] - 0s 1ms/step - loss: 0.1475 - accuracy: 0.8511\n",
            "Epoch 89/100\n",
            "47/47 [==============================] - 0s 1ms/step - loss: 0.1378 - accuracy: 0.8574\n",
            "Epoch 90/100\n",
            "47/47 [==============================] - 0s 2ms/step - loss: 0.1328 - accuracy: 0.8553\n",
            "Epoch 91/100\n",
            "47/47 [==============================] - 0s 1ms/step - loss: 0.1285 - accuracy: 0.8574\n",
            "Epoch 92/100\n",
            "47/47 [==============================] - 0s 2ms/step - loss: 0.1270 - accuracy: 0.8660\n",
            "Epoch 93/100\n",
            "47/47 [==============================] - 0s 1ms/step - loss: 0.1386 - accuracy: 0.8532\n",
            "Epoch 94/100\n",
            "47/47 [==============================] - 0s 2ms/step - loss: 0.1397 - accuracy: 0.8532\n",
            "Epoch 95/100\n",
            "47/47 [==============================] - 0s 2ms/step - loss: 0.1356 - accuracy: 0.8617\n",
            "Epoch 96/100\n",
            "47/47 [==============================] - 0s 1ms/step - loss: 0.1333 - accuracy: 0.8532\n",
            "Epoch 97/100\n",
            "47/47 [==============================] - 0s 1ms/step - loss: 0.1293 - accuracy: 0.8553\n",
            "Epoch 98/100\n",
            "47/47 [==============================] - 0s 2ms/step - loss: 0.1282 - accuracy: 0.8596\n",
            "Epoch 99/100\n",
            "47/47 [==============================] - 0s 2ms/step - loss: 0.1379 - accuracy: 0.8468\n",
            "Epoch 100/100\n",
            "47/47 [==============================] - 0s 2ms/step - loss: 0.1301 - accuracy: 0.8638\n"
          ]
        },
        {
          "output_type": "execute_result",
          "data": {
            "text/plain": [
              "<keras.callbacks.History at 0x7fc2454ef150>"
            ]
          },
          "metadata": {},
          "execution_count": 19
        }
      ]
    },
    {
      "cell_type": "code",
      "source": [
        "# 교차 엔트로피 : 분류문제에서 주로 쓰임 \n",
        "# 참거짓 : binary_crossentropy\n",
        "model.compile(loss='binary_crossentropy', optimizer='adam', metrics=['accuracy'])\n",
        "model.fit(X,Y, epochs=100, batch_size=10)"
      ],
      "metadata": {
        "colab": {
          "base_uri": "https://localhost:8080/"
        },
        "id": "glfBWZYONaxM",
        "outputId": "e907cfa3-c8b0-4b91-da29-c9c74b706dba"
      },
      "execution_count": 20,
      "outputs": [
        {
          "output_type": "stream",
          "name": "stdout",
          "text": [
            "Epoch 1/100\n",
            "47/47 [==============================] - 0s 2ms/step - loss: 0.5286 - accuracy: 0.8298\n",
            "Epoch 2/100\n",
            "47/47 [==============================] - 0s 2ms/step - loss: 0.5413 - accuracy: 0.8511\n",
            "Epoch 3/100\n",
            "47/47 [==============================] - 0s 2ms/step - loss: 0.4860 - accuracy: 0.8447\n",
            "Epoch 4/100\n",
            "47/47 [==============================] - 0s 2ms/step - loss: 0.5802 - accuracy: 0.8383\n",
            "Epoch 5/100\n",
            "47/47 [==============================] - 0s 1ms/step - loss: 0.5040 - accuracy: 0.8553\n",
            "Epoch 6/100\n",
            "47/47 [==============================] - 0s 2ms/step - loss: 0.4771 - accuracy: 0.8553\n",
            "Epoch 7/100\n",
            "47/47 [==============================] - 0s 2ms/step - loss: 0.4930 - accuracy: 0.8489\n",
            "Epoch 8/100\n",
            "47/47 [==============================] - 0s 2ms/step - loss: 0.4940 - accuracy: 0.8532\n",
            "Epoch 9/100\n",
            "47/47 [==============================] - 0s 1ms/step - loss: 0.4486 - accuracy: 0.8532\n",
            "Epoch 10/100\n",
            "47/47 [==============================] - 0s 2ms/step - loss: 0.4834 - accuracy: 0.8553\n",
            "Epoch 11/100\n",
            "47/47 [==============================] - 0s 2ms/step - loss: 0.4661 - accuracy: 0.8553\n",
            "Epoch 12/100\n",
            "47/47 [==============================] - 0s 2ms/step - loss: 0.4966 - accuracy: 0.8574\n",
            "Epoch 13/100\n",
            "47/47 [==============================] - 0s 2ms/step - loss: 0.4712 - accuracy: 0.8468\n",
            "Epoch 14/100\n",
            "47/47 [==============================] - 0s 1ms/step - loss: 0.5058 - accuracy: 0.8426\n",
            "Epoch 15/100\n",
            "47/47 [==============================] - 0s 2ms/step - loss: 0.4779 - accuracy: 0.8553\n",
            "Epoch 16/100\n",
            "47/47 [==============================] - 0s 2ms/step - loss: 0.4625 - accuracy: 0.8404\n",
            "Epoch 17/100\n",
            "47/47 [==============================] - 0s 1ms/step - loss: 0.4583 - accuracy: 0.8532\n",
            "Epoch 18/100\n",
            "47/47 [==============================] - 0s 2ms/step - loss: 0.4765 - accuracy: 0.8596\n",
            "Epoch 19/100\n",
            "47/47 [==============================] - 0s 1ms/step - loss: 0.4532 - accuracy: 0.8404\n",
            "Epoch 20/100\n",
            "47/47 [==============================] - 0s 2ms/step - loss: 0.4465 - accuracy: 0.8638\n",
            "Epoch 21/100\n",
            "47/47 [==============================] - 0s 1ms/step - loss: 0.4233 - accuracy: 0.8553\n",
            "Epoch 22/100\n",
            "47/47 [==============================] - 0s 1ms/step - loss: 0.4394 - accuracy: 0.8468\n",
            "Epoch 23/100\n",
            "47/47 [==============================] - 0s 1ms/step - loss: 0.4196 - accuracy: 0.8489\n",
            "Epoch 24/100\n",
            "47/47 [==============================] - 0s 2ms/step - loss: 0.4748 - accuracy: 0.8340\n",
            "Epoch 25/100\n",
            "47/47 [==============================] - 0s 1ms/step - loss: 0.4281 - accuracy: 0.8596\n",
            "Epoch 26/100\n",
            "47/47 [==============================] - 0s 1ms/step - loss: 0.4430 - accuracy: 0.8489\n",
            "Epoch 27/100\n",
            "47/47 [==============================] - 0s 2ms/step - loss: 0.4631 - accuracy: 0.8340\n",
            "Epoch 28/100\n",
            "47/47 [==============================] - 0s 2ms/step - loss: 0.4206 - accuracy: 0.8532\n",
            "Epoch 29/100\n",
            "47/47 [==============================] - 0s 2ms/step - loss: 0.4516 - accuracy: 0.8383\n",
            "Epoch 30/100\n",
            "47/47 [==============================] - 0s 1ms/step - loss: 0.4048 - accuracy: 0.8447\n",
            "Epoch 31/100\n",
            "47/47 [==============================] - 0s 2ms/step - loss: 0.4440 - accuracy: 0.8447\n",
            "Epoch 32/100\n",
            "47/47 [==============================] - 0s 2ms/step - loss: 0.4150 - accuracy: 0.8468\n",
            "Epoch 33/100\n",
            "47/47 [==============================] - 0s 1ms/step - loss: 0.4687 - accuracy: 0.8489\n",
            "Epoch 34/100\n",
            "47/47 [==============================] - 0s 1ms/step - loss: 0.4016 - accuracy: 0.8553\n",
            "Epoch 35/100\n",
            "47/47 [==============================] - 0s 1ms/step - loss: 0.4417 - accuracy: 0.8362\n",
            "Epoch 36/100\n",
            "47/47 [==============================] - 0s 2ms/step - loss: 0.4289 - accuracy: 0.8426\n",
            "Epoch 37/100\n",
            "47/47 [==============================] - 0s 1ms/step - loss: 0.4688 - accuracy: 0.8553\n",
            "Epoch 38/100\n",
            "47/47 [==============================] - 0s 1ms/step - loss: 0.4528 - accuracy: 0.8362\n",
            "Epoch 39/100\n",
            "47/47 [==============================] - 0s 1ms/step - loss: 0.4238 - accuracy: 0.8553\n",
            "Epoch 40/100\n",
            "47/47 [==============================] - 0s 2ms/step - loss: 0.4095 - accuracy: 0.8617\n",
            "Epoch 41/100\n",
            "47/47 [==============================] - 0s 1ms/step - loss: 0.4179 - accuracy: 0.8489\n",
            "Epoch 42/100\n",
            "47/47 [==============================] - 0s 1ms/step - loss: 0.4917 - accuracy: 0.8255\n",
            "Epoch 43/100\n",
            "47/47 [==============================] - 0s 1ms/step - loss: 0.4207 - accuracy: 0.8489\n",
            "Epoch 44/100\n",
            "47/47 [==============================] - 0s 2ms/step - loss: 0.4048 - accuracy: 0.8404\n",
            "Epoch 45/100\n",
            "47/47 [==============================] - 0s 2ms/step - loss: 0.4113 - accuracy: 0.8511\n",
            "Epoch 46/100\n",
            "47/47 [==============================] - 0s 1ms/step - loss: 0.3981 - accuracy: 0.8489\n",
            "Epoch 47/100\n",
            "47/47 [==============================] - 0s 2ms/step - loss: 0.4259 - accuracy: 0.8277\n",
            "Epoch 48/100\n",
            "47/47 [==============================] - 0s 2ms/step - loss: 0.4062 - accuracy: 0.8532\n",
            "Epoch 49/100\n",
            "47/47 [==============================] - 0s 1ms/step - loss: 0.4042 - accuracy: 0.8489\n",
            "Epoch 50/100\n",
            "47/47 [==============================] - 0s 1ms/step - loss: 0.3971 - accuracy: 0.8447\n",
            "Epoch 51/100\n",
            "47/47 [==============================] - 0s 1ms/step - loss: 0.4021 - accuracy: 0.8574\n",
            "Epoch 52/100\n",
            "47/47 [==============================] - 0s 2ms/step - loss: 0.4009 - accuracy: 0.8468\n",
            "Epoch 53/100\n",
            "47/47 [==============================] - 0s 1ms/step - loss: 0.4011 - accuracy: 0.8532\n",
            "Epoch 54/100\n",
            "47/47 [==============================] - 0s 2ms/step - loss: 0.4019 - accuracy: 0.8532\n",
            "Epoch 55/100\n",
            "47/47 [==============================] - 0s 1ms/step - loss: 0.4178 - accuracy: 0.8404\n",
            "Epoch 56/100\n",
            "47/47 [==============================] - 0s 2ms/step - loss: 0.4099 - accuracy: 0.8404\n",
            "Epoch 57/100\n",
            "47/47 [==============================] - 0s 1ms/step - loss: 0.4099 - accuracy: 0.8553\n",
            "Epoch 58/100\n",
            "47/47 [==============================] - 0s 1ms/step - loss: 0.4282 - accuracy: 0.8489\n",
            "Epoch 59/100\n",
            "47/47 [==============================] - 0s 2ms/step - loss: 0.3990 - accuracy: 0.8383\n",
            "Epoch 60/100\n",
            "47/47 [==============================] - 0s 2ms/step - loss: 0.3880 - accuracy: 0.8511\n",
            "Epoch 61/100\n",
            "47/47 [==============================] - 0s 1ms/step - loss: 0.4002 - accuracy: 0.8617\n",
            "Epoch 62/100\n",
            "47/47 [==============================] - 0s 1ms/step - loss: 0.4003 - accuracy: 0.8511\n",
            "Epoch 63/100\n",
            "47/47 [==============================] - 0s 2ms/step - loss: 0.4114 - accuracy: 0.8447\n",
            "Epoch 64/100\n",
            "47/47 [==============================] - 0s 2ms/step - loss: 0.4337 - accuracy: 0.8468\n",
            "Epoch 65/100\n",
            "47/47 [==============================] - 0s 2ms/step - loss: 0.3873 - accuracy: 0.8553\n",
            "Epoch 66/100\n",
            "47/47 [==============================] - 0s 2ms/step - loss: 0.4341 - accuracy: 0.8362\n",
            "Epoch 67/100\n",
            "47/47 [==============================] - 0s 1ms/step - loss: 0.3994 - accuracy: 0.8532\n",
            "Epoch 68/100\n",
            "47/47 [==============================] - 0s 2ms/step - loss: 0.4136 - accuracy: 0.8574\n",
            "Epoch 69/100\n",
            "47/47 [==============================] - 0s 2ms/step - loss: 0.4349 - accuracy: 0.8426\n",
            "Epoch 70/100\n",
            "47/47 [==============================] - 0s 1ms/step - loss: 0.4155 - accuracy: 0.8447\n",
            "Epoch 71/100\n",
            "47/47 [==============================] - 0s 1ms/step - loss: 0.3811 - accuracy: 0.8511\n",
            "Epoch 72/100\n",
            "47/47 [==============================] - 0s 2ms/step - loss: 0.4346 - accuracy: 0.8255\n",
            "Epoch 73/100\n",
            "47/47 [==============================] - 0s 1ms/step - loss: 0.4770 - accuracy: 0.8447\n",
            "Epoch 74/100\n",
            "47/47 [==============================] - 0s 1ms/step - loss: 0.4009 - accuracy: 0.8468\n",
            "Epoch 75/100\n",
            "47/47 [==============================] - 0s 2ms/step - loss: 0.3984 - accuracy: 0.8638\n",
            "Epoch 76/100\n",
            "47/47 [==============================] - 0s 2ms/step - loss: 0.4267 - accuracy: 0.8511\n",
            "Epoch 77/100\n",
            "47/47 [==============================] - 0s 2ms/step - loss: 0.3936 - accuracy: 0.8468\n",
            "Epoch 78/100\n",
            "47/47 [==============================] - 0s 2ms/step - loss: 0.4241 - accuracy: 0.8574\n",
            "Epoch 79/100\n",
            "47/47 [==============================] - 0s 2ms/step - loss: 0.4037 - accuracy: 0.8426\n",
            "Epoch 80/100\n",
            "47/47 [==============================] - 0s 1ms/step - loss: 0.4004 - accuracy: 0.8511\n",
            "Epoch 81/100\n",
            "47/47 [==============================] - 0s 2ms/step - loss: 0.4619 - accuracy: 0.8383\n",
            "Epoch 82/100\n",
            "47/47 [==============================] - 0s 2ms/step - loss: 0.4630 - accuracy: 0.8468\n",
            "Epoch 83/100\n",
            "47/47 [==============================] - 0s 2ms/step - loss: 0.4235 - accuracy: 0.8489\n",
            "Epoch 84/100\n",
            "47/47 [==============================] - 0s 1ms/step - loss: 0.3984 - accuracy: 0.8447\n",
            "Epoch 85/100\n",
            "47/47 [==============================] - 0s 1ms/step - loss: 0.4105 - accuracy: 0.8426\n",
            "Epoch 86/100\n",
            "47/47 [==============================] - 0s 1ms/step - loss: 0.3895 - accuracy: 0.8447\n",
            "Epoch 87/100\n",
            "47/47 [==============================] - 0s 2ms/step - loss: 0.4043 - accuracy: 0.8447\n",
            "Epoch 88/100\n",
            "47/47 [==============================] - 0s 2ms/step - loss: 0.3892 - accuracy: 0.8489\n",
            "Epoch 89/100\n",
            "47/47 [==============================] - 0s 2ms/step - loss: 0.3904 - accuracy: 0.8468\n",
            "Epoch 90/100\n",
            "47/47 [==============================] - 0s 2ms/step - loss: 0.4148 - accuracy: 0.8511\n",
            "Epoch 91/100\n",
            "47/47 [==============================] - 0s 2ms/step - loss: 0.4630 - accuracy: 0.8319\n",
            "Epoch 92/100\n",
            "47/47 [==============================] - 0s 1ms/step - loss: 0.4025 - accuracy: 0.8574\n",
            "Epoch 93/100\n",
            "47/47 [==============================] - 0s 2ms/step - loss: 0.4449 - accuracy: 0.8383\n",
            "Epoch 94/100\n",
            "47/47 [==============================] - 0s 2ms/step - loss: 0.4198 - accuracy: 0.8511\n",
            "Epoch 95/100\n",
            "47/47 [==============================] - 0s 2ms/step - loss: 0.3904 - accuracy: 0.8532\n",
            "Epoch 96/100\n",
            "47/47 [==============================] - 0s 1ms/step - loss: 0.4727 - accuracy: 0.8319\n",
            "Epoch 97/100\n",
            "47/47 [==============================] - 0s 2ms/step - loss: 0.4389 - accuracy: 0.8319\n",
            "Epoch 98/100\n",
            "47/47 [==============================] - 0s 2ms/step - loss: 0.4171 - accuracy: 0.8340\n",
            "Epoch 99/100\n",
            "47/47 [==============================] - 0s 1ms/step - loss: 0.4387 - accuracy: 0.8553\n",
            "Epoch 100/100\n",
            "47/47 [==============================] - 0s 2ms/step - loss: 0.4072 - accuracy: 0.8553\n"
          ]
        },
        {
          "output_type": "execute_result",
          "data": {
            "text/plain": [
              "<keras.callbacks.History at 0x7fc24cbdabd0>"
            ]
          },
          "metadata": {},
          "execution_count": 20
        }
      ]
    },
    {
      "cell_type": "code",
      "source": [
        "# loss선택 가능한것들\n",
        "# 평균 제곱계열 : mean_squared_error, mean_absolute_error, mean_absolute_percentage_error, mean_squared_logarithmic_error\n",
        "# 교차 엔트로피 계열 : binary_crossentrpoy, categorical_crossentropy"
      ],
      "metadata": {
        "id": "m_K14RmlNa0k"
      },
      "execution_count": 27,
      "outputs": []
    },
    {
      "cell_type": "code",
      "source": [
        ""
      ],
      "metadata": {
        "id": "freM2wDVQCVS"
      },
      "execution_count": null,
      "outputs": []
    },
    {
      "cell_type": "markdown",
      "source": [
        "### 11장 데이터 다루기 "
      ],
      "metadata": {
        "id": "UNljUkkdQhaJ"
      }
    },
    {
      "cell_type": "code",
      "source": [
        "# 피마 인디언 데이터 분석하기\n",
        "# 피마 인디언의 당뇨병 여부를 예측하는 데이터 PIMA-INDIANS_DABETES"
      ],
      "metadata": {
        "id": "N8cxAHk1QjUc"
      },
      "execution_count": 32,
      "outputs": []
    },
    {
      "cell_type": "code",
      "source": [
        "# 샘플수 768\n",
        "# 컬럼 9"
      ],
      "metadata": {
        "id": "HS377GlFUiDJ"
      },
      "execution_count": 33,
      "outputs": []
    },
    {
      "cell_type": "code",
      "source": [
        "import pandas as pd\n",
        "df = pd.read_csv('data/pima-indians-diabetes.csv', names=['pregnant','plasma','pressure','thickness','insulin','bmi','pedigree','age','class'])"
      ],
      "metadata": {
        "colab": {
          "base_uri": "https://localhost:8080/",
          "height": 209
        },
        "id": "y8AFIbLkUl0N",
        "outputId": "3edd6dce-d01f-4882-e48c-ddfe46b80f3c"
      },
      "execution_count": 66,
      "outputs": [
        {
          "output_type": "error",
          "ename": "TypeError",
          "evalue": "ignored",
          "traceback": [
            "\u001b[0;31m---------------------------------------------------------------------------\u001b[0m",
            "\u001b[0;31mTypeError\u001b[0m                                 Traceback (most recent call last)",
            "\u001b[0;32m<ipython-input-66-f65eaa5bc4ef>\u001b[0m in \u001b[0;36m<module>\u001b[0;34m()\u001b[0m\n\u001b[1;32m      1\u001b[0m \u001b[0;32mimport\u001b[0m \u001b[0mpandas\u001b[0m \u001b[0;32mas\u001b[0m \u001b[0mpd\u001b[0m\u001b[0;34m\u001b[0m\u001b[0;34m\u001b[0m\u001b[0m\n\u001b[1;32m      2\u001b[0m \u001b[0;32mimport\u001b[0m \u001b[0mnumpy\u001b[0m \u001b[0;32mas\u001b[0m \u001b[0mnp\u001b[0m\u001b[0;34m\u001b[0m\u001b[0;34m\u001b[0m\u001b[0m\n\u001b[0;32m----> 3\u001b[0;31m \u001b[0mdf\u001b[0m \u001b[0;34m=\u001b[0m \u001b[0mnp\u001b[0m\u001b[0;34m.\u001b[0m\u001b[0mloadtxt\u001b[0m\u001b[0;34m(\u001b[0m\u001b[0;34m'data/pima-indians-diabetes.csv'\u001b[0m\u001b[0;34m,\u001b[0m \u001b[0mnames\u001b[0m\u001b[0;34m=\u001b[0m\u001b[0;34m[\u001b[0m\u001b[0;34m'pregnant'\u001b[0m\u001b[0;34m,\u001b[0m\u001b[0;34m'plasma'\u001b[0m\u001b[0;34m,\u001b[0m\u001b[0;34m'pressure'\u001b[0m\u001b[0;34m,\u001b[0m\u001b[0;34m'thickness'\u001b[0m\u001b[0;34m,\u001b[0m\u001b[0;34m'insulin'\u001b[0m\u001b[0;34m,\u001b[0m\u001b[0;34m'bmi'\u001b[0m\u001b[0;34m,\u001b[0m\u001b[0;34m'pedigree'\u001b[0m\u001b[0;34m,\u001b[0m\u001b[0;34m'age'\u001b[0m\u001b[0;34m,\u001b[0m\u001b[0;34m'class'\u001b[0m\u001b[0;34m]\u001b[0m\u001b[0;34m)\u001b[0m\u001b[0;34m\u001b[0m\u001b[0;34m\u001b[0m\u001b[0m\n\u001b[0m",
            "\u001b[0;31mTypeError\u001b[0m: loadtxt() got an unexpected keyword argument 'names'"
          ]
        }
      ]
    },
    {
      "cell_type": "code",
      "source": [
        "df"
      ],
      "metadata": {
        "colab": {
          "base_uri": "https://localhost:8080/",
          "height": 423
        },
        "id": "I7J2uv89MgjU",
        "outputId": "4332c50f-d9d8-409d-afc2-6c1c5dd56c99"
      },
      "execution_count": 36,
      "outputs": [
        {
          "output_type": "execute_result",
          "data": {
            "text/html": [
              "\n",
              "  <div id=\"df-6c7fcd66-f90c-4b9b-832d-909762cb50aa\">\n",
              "    <div class=\"colab-df-container\">\n",
              "      <div>\n",
              "<style scoped>\n",
              "    .dataframe tbody tr th:only-of-type {\n",
              "        vertical-align: middle;\n",
              "    }\n",
              "\n",
              "    .dataframe tbody tr th {\n",
              "        vertical-align: top;\n",
              "    }\n",
              "\n",
              "    .dataframe thead th {\n",
              "        text-align: right;\n",
              "    }\n",
              "</style>\n",
              "<table border=\"1\" class=\"dataframe\">\n",
              "  <thead>\n",
              "    <tr style=\"text-align: right;\">\n",
              "      <th></th>\n",
              "      <th>pregnant</th>\n",
              "      <th>plasma</th>\n",
              "      <th>pressure</th>\n",
              "      <th>thickness</th>\n",
              "      <th>insulin</th>\n",
              "      <th>bmi</th>\n",
              "      <th>pedigree</th>\n",
              "      <th>age</th>\n",
              "      <th>class</th>\n",
              "    </tr>\n",
              "  </thead>\n",
              "  <tbody>\n",
              "    <tr>\n",
              "      <th>0</th>\n",
              "      <td>6</td>\n",
              "      <td>148</td>\n",
              "      <td>72</td>\n",
              "      <td>35</td>\n",
              "      <td>0</td>\n",
              "      <td>33.6</td>\n",
              "      <td>0.627</td>\n",
              "      <td>50</td>\n",
              "      <td>1</td>\n",
              "    </tr>\n",
              "    <tr>\n",
              "      <th>1</th>\n",
              "      <td>1</td>\n",
              "      <td>85</td>\n",
              "      <td>66</td>\n",
              "      <td>29</td>\n",
              "      <td>0</td>\n",
              "      <td>26.6</td>\n",
              "      <td>0.351</td>\n",
              "      <td>31</td>\n",
              "      <td>0</td>\n",
              "    </tr>\n",
              "    <tr>\n",
              "      <th>2</th>\n",
              "      <td>8</td>\n",
              "      <td>183</td>\n",
              "      <td>64</td>\n",
              "      <td>0</td>\n",
              "      <td>0</td>\n",
              "      <td>23.3</td>\n",
              "      <td>0.672</td>\n",
              "      <td>32</td>\n",
              "      <td>1</td>\n",
              "    </tr>\n",
              "    <tr>\n",
              "      <th>3</th>\n",
              "      <td>1</td>\n",
              "      <td>89</td>\n",
              "      <td>66</td>\n",
              "      <td>23</td>\n",
              "      <td>94</td>\n",
              "      <td>28.1</td>\n",
              "      <td>0.167</td>\n",
              "      <td>21</td>\n",
              "      <td>0</td>\n",
              "    </tr>\n",
              "    <tr>\n",
              "      <th>4</th>\n",
              "      <td>0</td>\n",
              "      <td>137</td>\n",
              "      <td>40</td>\n",
              "      <td>35</td>\n",
              "      <td>168</td>\n",
              "      <td>43.1</td>\n",
              "      <td>2.288</td>\n",
              "      <td>33</td>\n",
              "      <td>1</td>\n",
              "    </tr>\n",
              "    <tr>\n",
              "      <th>...</th>\n",
              "      <td>...</td>\n",
              "      <td>...</td>\n",
              "      <td>...</td>\n",
              "      <td>...</td>\n",
              "      <td>...</td>\n",
              "      <td>...</td>\n",
              "      <td>...</td>\n",
              "      <td>...</td>\n",
              "      <td>...</td>\n",
              "    </tr>\n",
              "    <tr>\n",
              "      <th>763</th>\n",
              "      <td>10</td>\n",
              "      <td>101</td>\n",
              "      <td>76</td>\n",
              "      <td>48</td>\n",
              "      <td>180</td>\n",
              "      <td>32.9</td>\n",
              "      <td>0.171</td>\n",
              "      <td>63</td>\n",
              "      <td>0</td>\n",
              "    </tr>\n",
              "    <tr>\n",
              "      <th>764</th>\n",
              "      <td>2</td>\n",
              "      <td>122</td>\n",
              "      <td>70</td>\n",
              "      <td>27</td>\n",
              "      <td>0</td>\n",
              "      <td>36.8</td>\n",
              "      <td>0.340</td>\n",
              "      <td>27</td>\n",
              "      <td>0</td>\n",
              "    </tr>\n",
              "    <tr>\n",
              "      <th>765</th>\n",
              "      <td>5</td>\n",
              "      <td>121</td>\n",
              "      <td>72</td>\n",
              "      <td>23</td>\n",
              "      <td>112</td>\n",
              "      <td>26.2</td>\n",
              "      <td>0.245</td>\n",
              "      <td>30</td>\n",
              "      <td>0</td>\n",
              "    </tr>\n",
              "    <tr>\n",
              "      <th>766</th>\n",
              "      <td>1</td>\n",
              "      <td>126</td>\n",
              "      <td>60</td>\n",
              "      <td>0</td>\n",
              "      <td>0</td>\n",
              "      <td>30.1</td>\n",
              "      <td>0.349</td>\n",
              "      <td>47</td>\n",
              "      <td>1</td>\n",
              "    </tr>\n",
              "    <tr>\n",
              "      <th>767</th>\n",
              "      <td>1</td>\n",
              "      <td>93</td>\n",
              "      <td>70</td>\n",
              "      <td>31</td>\n",
              "      <td>0</td>\n",
              "      <td>30.4</td>\n",
              "      <td>0.315</td>\n",
              "      <td>23</td>\n",
              "      <td>0</td>\n",
              "    </tr>\n",
              "  </tbody>\n",
              "</table>\n",
              "<p>768 rows × 9 columns</p>\n",
              "</div>\n",
              "      <button class=\"colab-df-convert\" onclick=\"convertToInteractive('df-6c7fcd66-f90c-4b9b-832d-909762cb50aa')\"\n",
              "              title=\"Convert this dataframe to an interactive table.\"\n",
              "              style=\"display:none;\">\n",
              "        \n",
              "  <svg xmlns=\"http://www.w3.org/2000/svg\" height=\"24px\"viewBox=\"0 0 24 24\"\n",
              "       width=\"24px\">\n",
              "    <path d=\"M0 0h24v24H0V0z\" fill=\"none\"/>\n",
              "    <path d=\"M18.56 5.44l.94 2.06.94-2.06 2.06-.94-2.06-.94-.94-2.06-.94 2.06-2.06.94zm-11 1L8.5 8.5l.94-2.06 2.06-.94-2.06-.94L8.5 2.5l-.94 2.06-2.06.94zm10 10l.94 2.06.94-2.06 2.06-.94-2.06-.94-.94-2.06-.94 2.06-2.06.94z\"/><path d=\"M17.41 7.96l-1.37-1.37c-.4-.4-.92-.59-1.43-.59-.52 0-1.04.2-1.43.59L10.3 9.45l-7.72 7.72c-.78.78-.78 2.05 0 2.83L4 21.41c.39.39.9.59 1.41.59.51 0 1.02-.2 1.41-.59l7.78-7.78 2.81-2.81c.8-.78.8-2.07 0-2.86zM5.41 20L4 18.59l7.72-7.72 1.47 1.35L5.41 20z\"/>\n",
              "  </svg>\n",
              "      </button>\n",
              "      \n",
              "  <style>\n",
              "    .colab-df-container {\n",
              "      display:flex;\n",
              "      flex-wrap:wrap;\n",
              "      gap: 12px;\n",
              "    }\n",
              "\n",
              "    .colab-df-convert {\n",
              "      background-color: #E8F0FE;\n",
              "      border: none;\n",
              "      border-radius: 50%;\n",
              "      cursor: pointer;\n",
              "      display: none;\n",
              "      fill: #1967D2;\n",
              "      height: 32px;\n",
              "      padding: 0 0 0 0;\n",
              "      width: 32px;\n",
              "    }\n",
              "\n",
              "    .colab-df-convert:hover {\n",
              "      background-color: #E2EBFA;\n",
              "      box-shadow: 0px 1px 2px rgba(60, 64, 67, 0.3), 0px 1px 3px 1px rgba(60, 64, 67, 0.15);\n",
              "      fill: #174EA6;\n",
              "    }\n",
              "\n",
              "    [theme=dark] .colab-df-convert {\n",
              "      background-color: #3B4455;\n",
              "      fill: #D2E3FC;\n",
              "    }\n",
              "\n",
              "    [theme=dark] .colab-df-convert:hover {\n",
              "      background-color: #434B5C;\n",
              "      box-shadow: 0px 1px 3px 1px rgba(0, 0, 0, 0.15);\n",
              "      filter: drop-shadow(0px 1px 2px rgba(0, 0, 0, 0.3));\n",
              "      fill: #FFFFFF;\n",
              "    }\n",
              "  </style>\n",
              "\n",
              "      <script>\n",
              "        const buttonEl =\n",
              "          document.querySelector('#df-6c7fcd66-f90c-4b9b-832d-909762cb50aa button.colab-df-convert');\n",
              "        buttonEl.style.display =\n",
              "          google.colab.kernel.accessAllowed ? 'block' : 'none';\n",
              "\n",
              "        async function convertToInteractive(key) {\n",
              "          const element = document.querySelector('#df-6c7fcd66-f90c-4b9b-832d-909762cb50aa');\n",
              "          const dataTable =\n",
              "            await google.colab.kernel.invokeFunction('convertToInteractive',\n",
              "                                                     [key], {});\n",
              "          if (!dataTable) return;\n",
              "\n",
              "          const docLinkHtml = 'Like what you see? Visit the ' +\n",
              "            '<a target=\"_blank\" href=https://colab.research.google.com/notebooks/data_table.ipynb>data table notebook</a>'\n",
              "            + ' to learn more about interactive tables.';\n",
              "          element.innerHTML = '';\n",
              "          dataTable['output_type'] = 'display_data';\n",
              "          await google.colab.output.renderOutput(dataTable, element);\n",
              "          const docLink = document.createElement('div');\n",
              "          docLink.innerHTML = docLinkHtml;\n",
              "          element.appendChild(docLink);\n",
              "        }\n",
              "      </script>\n",
              "    </div>\n",
              "  </div>\n",
              "  "
            ],
            "text/plain": [
              "     pregnant  plasma  pressure  thickness  insulin   bmi  pedigree  age  class\n",
              "0           6     148        72         35        0  33.6     0.627   50      1\n",
              "1           1      85        66         29        0  26.6     0.351   31      0\n",
              "2           8     183        64          0        0  23.3     0.672   32      1\n",
              "3           1      89        66         23       94  28.1     0.167   21      0\n",
              "4           0     137        40         35      168  43.1     2.288   33      1\n",
              "..        ...     ...       ...        ...      ...   ...       ...  ...    ...\n",
              "763        10     101        76         48      180  32.9     0.171   63      0\n",
              "764         2     122        70         27        0  36.8     0.340   27      0\n",
              "765         5     121        72         23      112  26.2     0.245   30      0\n",
              "766         1     126        60          0        0  30.1     0.349   47      1\n",
              "767         1      93        70         31        0  30.4     0.315   23      0\n",
              "\n",
              "[768 rows x 9 columns]"
            ]
          },
          "metadata": {},
          "execution_count": 36
        }
      ]
    },
    {
      "cell_type": "code",
      "source": [
        "print(df.head(5))"
      ],
      "metadata": {
        "colab": {
          "base_uri": "https://localhost:8080/"
        },
        "id": "sw-lFim5Iv86",
        "outputId": "53d855c2-c4cf-407e-f584-dea2f2756235"
      },
      "execution_count": 37,
      "outputs": [
        {
          "output_type": "stream",
          "name": "stdout",
          "text": [
            "   pregnant  plasma  pressure  thickness  insulin   bmi  pedigree  age  class\n",
            "0         6     148        72         35        0  33.6     0.627   50      1\n",
            "1         1      85        66         29        0  26.6     0.351   31      0\n",
            "2         8     183        64          0        0  23.3     0.672   32      1\n",
            "3         1      89        66         23       94  28.1     0.167   21      0\n",
            "4         0     137        40         35      168  43.1     2.288   33      1\n"
          ]
        }
      ]
    },
    {
      "cell_type": "code",
      "source": [
        "print(df.info())"
      ],
      "metadata": {
        "colab": {
          "base_uri": "https://localhost:8080/"
        },
        "id": "RnTffSuTIXFu",
        "outputId": "727e04ca-82b0-4587-df4a-b381c81257a0"
      },
      "execution_count": 38,
      "outputs": [
        {
          "output_type": "stream",
          "name": "stdout",
          "text": [
            "<class 'pandas.core.frame.DataFrame'>\n",
            "RangeIndex: 768 entries, 0 to 767\n",
            "Data columns (total 9 columns):\n",
            " #   Column     Non-Null Count  Dtype  \n",
            "---  ------     --------------  -----  \n",
            " 0   pregnant   768 non-null    int64  \n",
            " 1   plasma     768 non-null    int64  \n",
            " 2   pressure   768 non-null    int64  \n",
            " 3   thickness  768 non-null    int64  \n",
            " 4   insulin    768 non-null    int64  \n",
            " 5   bmi        768 non-null    float64\n",
            " 6   pedigree   768 non-null    float64\n",
            " 7   age        768 non-null    int64  \n",
            " 8   class      768 non-null    int64  \n",
            "dtypes: float64(2), int64(7)\n",
            "memory usage: 54.1 KB\n",
            "None\n"
          ]
        }
      ]
    },
    {
      "cell_type": "code",
      "source": [
        "print(df.describe())"
      ],
      "metadata": {
        "colab": {
          "base_uri": "https://localhost:8080/"
        },
        "id": "isE1bRx9U_RW",
        "outputId": "367a7eee-39f9-42d9-b32a-ebdf841f9752"
      },
      "execution_count": 39,
      "outputs": [
        {
          "output_type": "stream",
          "name": "stdout",
          "text": [
            "         pregnant      plasma    pressure  ...    pedigree         age       class\n",
            "count  768.000000  768.000000  768.000000  ...  768.000000  768.000000  768.000000\n",
            "mean     3.845052  120.894531   69.105469  ...    0.471876   33.240885    0.348958\n",
            "std      3.369578   31.972618   19.355807  ...    0.331329   11.760232    0.476951\n",
            "min      0.000000    0.000000    0.000000  ...    0.078000   21.000000    0.000000\n",
            "25%      1.000000   99.000000   62.000000  ...    0.243750   24.000000    0.000000\n",
            "50%      3.000000  117.000000   72.000000  ...    0.372500   29.000000    0.000000\n",
            "75%      6.000000  140.250000   80.000000  ...    0.626250   41.000000    1.000000\n",
            "max     17.000000  199.000000  122.000000  ...    2.420000   81.000000    1.000000\n",
            "\n",
            "[8 rows x 9 columns]\n"
          ]
        }
      ]
    },
    {
      "cell_type": "code",
      "source": [
        "print(df[['pregnant','class']])"
      ],
      "metadata": {
        "colab": {
          "base_uri": "https://localhost:8080/"
        },
        "id": "ZAiKw-qnVJGZ",
        "outputId": "1e0ec470-753d-4782-dcaf-1188e8e10648"
      },
      "execution_count": 40,
      "outputs": [
        {
          "output_type": "stream",
          "name": "stdout",
          "text": [
            "     pregnant  class\n",
            "0           6      1\n",
            "1           1      0\n",
            "2           8      1\n",
            "3           1      0\n",
            "4           0      1\n",
            "..        ...    ...\n",
            "763        10      0\n",
            "764         2      0\n",
            "765         5      0\n",
            "766         1      1\n",
            "767         1      0\n",
            "\n",
            "[768 rows x 2 columns]\n"
          ]
        }
      ]
    },
    {
      "cell_type": "code",
      "source": [
        "#데이터 가공하기\n",
        "print(df[['pregnant','class']].groupby(['pregnant'], as_index=False).mean().sort_values(by='pregnant', ascending=True))\n",
        "# as_index=False : pregnant정보옆에 인덱스를 만들지 여부\n"
      ],
      "metadata": {
        "colab": {
          "base_uri": "https://localhost:8080/"
        },
        "id": "re0R4N9mHvR_",
        "outputId": "e720998b-efa8-4987-b5b6-c54cb4ca15f9"
      },
      "execution_count": 42,
      "outputs": [
        {
          "output_type": "stream",
          "name": "stdout",
          "text": [
            "    pregnant     class\n",
            "0          0  0.342342\n",
            "1          1  0.214815\n",
            "2          2  0.184466\n",
            "3          3  0.360000\n",
            "4          4  0.338235\n",
            "5          5  0.368421\n",
            "6          6  0.320000\n",
            "7          7  0.555556\n",
            "8          8  0.578947\n",
            "9          9  0.642857\n",
            "10        10  0.416667\n",
            "11        11  0.636364\n",
            "12        12  0.444444\n",
            "13        13  0.500000\n",
            "14        14  1.000000\n",
            "15        15  1.000000\n",
            "16        17  1.000000\n"
          ]
        }
      ]
    },
    {
      "cell_type": "code",
      "source": [
        "# matplotlib를 이용해 그래프 그리기"
      ],
      "metadata": {
        "id": "v_8Y2gddVbVu"
      },
      "execution_count": 43,
      "outputs": []
    },
    {
      "cell_type": "code",
      "source": [
        "import matplotlib.pyplot as plt\n",
        "import seaborn as sns"
      ],
      "metadata": {
        "id": "U_3YsszlVzD4"
      },
      "execution_count": 44,
      "outputs": []
    },
    {
      "cell_type": "code",
      "source": [
        "plt.figure(figsize=(20,20))"
      ],
      "metadata": {
        "colab": {
          "base_uri": "https://localhost:8080/",
          "height": 54
        },
        "id": "EiUIhLdMV3Ya",
        "outputId": "aafcbe67-10d8-4a22-e586-472516859ef3"
      },
      "execution_count": 53,
      "outputs": [
        {
          "output_type": "execute_result",
          "data": {
            "text/plain": [
              "<Figure size 1440x1440 with 0 Axes>"
            ]
          },
          "metadata": {},
          "execution_count": 53
        },
        {
          "output_type": "display_data",
          "data": {
            "text/plain": [
              "<Figure size 1440x1440 with 0 Axes>"
            ]
          },
          "metadata": {}
        }
      ]
    },
    {
      "cell_type": "code",
      "source": [
        "df.corr()"
      ],
      "metadata": {
        "colab": {
          "base_uri": "https://localhost:8080/",
          "height": 331
        },
        "id": "MaltLLHWWIBK",
        "outputId": "e88502e5-038b-4628-d05f-932e7aaab0bb"
      },
      "execution_count": 54,
      "outputs": [
        {
          "output_type": "execute_result",
          "data": {
            "text/html": [
              "\n",
              "  <div id=\"df-8b105837-ab7b-4985-ba36-556b3a18f2fc\">\n",
              "    <div class=\"colab-df-container\">\n",
              "      <div>\n",
              "<style scoped>\n",
              "    .dataframe tbody tr th:only-of-type {\n",
              "        vertical-align: middle;\n",
              "    }\n",
              "\n",
              "    .dataframe tbody tr th {\n",
              "        vertical-align: top;\n",
              "    }\n",
              "\n",
              "    .dataframe thead th {\n",
              "        text-align: right;\n",
              "    }\n",
              "</style>\n",
              "<table border=\"1\" class=\"dataframe\">\n",
              "  <thead>\n",
              "    <tr style=\"text-align: right;\">\n",
              "      <th></th>\n",
              "      <th>pregnant</th>\n",
              "      <th>plasma</th>\n",
              "      <th>pressure</th>\n",
              "      <th>thickness</th>\n",
              "      <th>insulin</th>\n",
              "      <th>bmi</th>\n",
              "      <th>pedigree</th>\n",
              "      <th>age</th>\n",
              "      <th>class</th>\n",
              "    </tr>\n",
              "  </thead>\n",
              "  <tbody>\n",
              "    <tr>\n",
              "      <th>pregnant</th>\n",
              "      <td>1.000000</td>\n",
              "      <td>0.129459</td>\n",
              "      <td>0.141282</td>\n",
              "      <td>-0.081672</td>\n",
              "      <td>-0.073535</td>\n",
              "      <td>0.017683</td>\n",
              "      <td>-0.033523</td>\n",
              "      <td>0.544341</td>\n",
              "      <td>0.221898</td>\n",
              "    </tr>\n",
              "    <tr>\n",
              "      <th>plasma</th>\n",
              "      <td>0.129459</td>\n",
              "      <td>1.000000</td>\n",
              "      <td>0.152590</td>\n",
              "      <td>0.057328</td>\n",
              "      <td>0.331357</td>\n",
              "      <td>0.221071</td>\n",
              "      <td>0.137337</td>\n",
              "      <td>0.263514</td>\n",
              "      <td>0.466581</td>\n",
              "    </tr>\n",
              "    <tr>\n",
              "      <th>pressure</th>\n",
              "      <td>0.141282</td>\n",
              "      <td>0.152590</td>\n",
              "      <td>1.000000</td>\n",
              "      <td>0.207371</td>\n",
              "      <td>0.088933</td>\n",
              "      <td>0.281805</td>\n",
              "      <td>0.041265</td>\n",
              "      <td>0.239528</td>\n",
              "      <td>0.065068</td>\n",
              "    </tr>\n",
              "    <tr>\n",
              "      <th>thickness</th>\n",
              "      <td>-0.081672</td>\n",
              "      <td>0.057328</td>\n",
              "      <td>0.207371</td>\n",
              "      <td>1.000000</td>\n",
              "      <td>0.436783</td>\n",
              "      <td>0.392573</td>\n",
              "      <td>0.183928</td>\n",
              "      <td>-0.113970</td>\n",
              "      <td>0.074752</td>\n",
              "    </tr>\n",
              "    <tr>\n",
              "      <th>insulin</th>\n",
              "      <td>-0.073535</td>\n",
              "      <td>0.331357</td>\n",
              "      <td>0.088933</td>\n",
              "      <td>0.436783</td>\n",
              "      <td>1.000000</td>\n",
              "      <td>0.197859</td>\n",
              "      <td>0.185071</td>\n",
              "      <td>-0.042163</td>\n",
              "      <td>0.130548</td>\n",
              "    </tr>\n",
              "    <tr>\n",
              "      <th>bmi</th>\n",
              "      <td>0.017683</td>\n",
              "      <td>0.221071</td>\n",
              "      <td>0.281805</td>\n",
              "      <td>0.392573</td>\n",
              "      <td>0.197859</td>\n",
              "      <td>1.000000</td>\n",
              "      <td>0.140647</td>\n",
              "      <td>0.036242</td>\n",
              "      <td>0.292695</td>\n",
              "    </tr>\n",
              "    <tr>\n",
              "      <th>pedigree</th>\n",
              "      <td>-0.033523</td>\n",
              "      <td>0.137337</td>\n",
              "      <td>0.041265</td>\n",
              "      <td>0.183928</td>\n",
              "      <td>0.185071</td>\n",
              "      <td>0.140647</td>\n",
              "      <td>1.000000</td>\n",
              "      <td>0.033561</td>\n",
              "      <td>0.173844</td>\n",
              "    </tr>\n",
              "    <tr>\n",
              "      <th>age</th>\n",
              "      <td>0.544341</td>\n",
              "      <td>0.263514</td>\n",
              "      <td>0.239528</td>\n",
              "      <td>-0.113970</td>\n",
              "      <td>-0.042163</td>\n",
              "      <td>0.036242</td>\n",
              "      <td>0.033561</td>\n",
              "      <td>1.000000</td>\n",
              "      <td>0.238356</td>\n",
              "    </tr>\n",
              "    <tr>\n",
              "      <th>class</th>\n",
              "      <td>0.221898</td>\n",
              "      <td>0.466581</td>\n",
              "      <td>0.065068</td>\n",
              "      <td>0.074752</td>\n",
              "      <td>0.130548</td>\n",
              "      <td>0.292695</td>\n",
              "      <td>0.173844</td>\n",
              "      <td>0.238356</td>\n",
              "      <td>1.000000</td>\n",
              "    </tr>\n",
              "  </tbody>\n",
              "</table>\n",
              "</div>\n",
              "      <button class=\"colab-df-convert\" onclick=\"convertToInteractive('df-8b105837-ab7b-4985-ba36-556b3a18f2fc')\"\n",
              "              title=\"Convert this dataframe to an interactive table.\"\n",
              "              style=\"display:none;\">\n",
              "        \n",
              "  <svg xmlns=\"http://www.w3.org/2000/svg\" height=\"24px\"viewBox=\"0 0 24 24\"\n",
              "       width=\"24px\">\n",
              "    <path d=\"M0 0h24v24H0V0z\" fill=\"none\"/>\n",
              "    <path d=\"M18.56 5.44l.94 2.06.94-2.06 2.06-.94-2.06-.94-.94-2.06-.94 2.06-2.06.94zm-11 1L8.5 8.5l.94-2.06 2.06-.94-2.06-.94L8.5 2.5l-.94 2.06-2.06.94zm10 10l.94 2.06.94-2.06 2.06-.94-2.06-.94-.94-2.06-.94 2.06-2.06.94z\"/><path d=\"M17.41 7.96l-1.37-1.37c-.4-.4-.92-.59-1.43-.59-.52 0-1.04.2-1.43.59L10.3 9.45l-7.72 7.72c-.78.78-.78 2.05 0 2.83L4 21.41c.39.39.9.59 1.41.59.51 0 1.02-.2 1.41-.59l7.78-7.78 2.81-2.81c.8-.78.8-2.07 0-2.86zM5.41 20L4 18.59l7.72-7.72 1.47 1.35L5.41 20z\"/>\n",
              "  </svg>\n",
              "      </button>\n",
              "      \n",
              "  <style>\n",
              "    .colab-df-container {\n",
              "      display:flex;\n",
              "      flex-wrap:wrap;\n",
              "      gap: 12px;\n",
              "    }\n",
              "\n",
              "    .colab-df-convert {\n",
              "      background-color: #E8F0FE;\n",
              "      border: none;\n",
              "      border-radius: 50%;\n",
              "      cursor: pointer;\n",
              "      display: none;\n",
              "      fill: #1967D2;\n",
              "      height: 32px;\n",
              "      padding: 0 0 0 0;\n",
              "      width: 32px;\n",
              "    }\n",
              "\n",
              "    .colab-df-convert:hover {\n",
              "      background-color: #E2EBFA;\n",
              "      box-shadow: 0px 1px 2px rgba(60, 64, 67, 0.3), 0px 1px 3px 1px rgba(60, 64, 67, 0.15);\n",
              "      fill: #174EA6;\n",
              "    }\n",
              "\n",
              "    [theme=dark] .colab-df-convert {\n",
              "      background-color: #3B4455;\n",
              "      fill: #D2E3FC;\n",
              "    }\n",
              "\n",
              "    [theme=dark] .colab-df-convert:hover {\n",
              "      background-color: #434B5C;\n",
              "      box-shadow: 0px 1px 3px 1px rgba(0, 0, 0, 0.15);\n",
              "      filter: drop-shadow(0px 1px 2px rgba(0, 0, 0, 0.3));\n",
              "      fill: #FFFFFF;\n",
              "    }\n",
              "  </style>\n",
              "\n",
              "      <script>\n",
              "        const buttonEl =\n",
              "          document.querySelector('#df-8b105837-ab7b-4985-ba36-556b3a18f2fc button.colab-df-convert');\n",
              "        buttonEl.style.display =\n",
              "          google.colab.kernel.accessAllowed ? 'block' : 'none';\n",
              "\n",
              "        async function convertToInteractive(key) {\n",
              "          const element = document.querySelector('#df-8b105837-ab7b-4985-ba36-556b3a18f2fc');\n",
              "          const dataTable =\n",
              "            await google.colab.kernel.invokeFunction('convertToInteractive',\n",
              "                                                     [key], {});\n",
              "          if (!dataTable) return;\n",
              "\n",
              "          const docLinkHtml = 'Like what you see? Visit the ' +\n",
              "            '<a target=\"_blank\" href=https://colab.research.google.com/notebooks/data_table.ipynb>data table notebook</a>'\n",
              "            + ' to learn more about interactive tables.';\n",
              "          element.innerHTML = '';\n",
              "          dataTable['output_type'] = 'display_data';\n",
              "          await google.colab.output.renderOutput(dataTable, element);\n",
              "          const docLink = document.createElement('div');\n",
              "          docLink.innerHTML = docLinkHtml;\n",
              "          element.appendChild(docLink);\n",
              "        }\n",
              "      </script>\n",
              "    </div>\n",
              "  </div>\n",
              "  "
            ],
            "text/plain": [
              "           pregnant    plasma  pressure  ...  pedigree       age     class\n",
              "pregnant   1.000000  0.129459  0.141282  ... -0.033523  0.544341  0.221898\n",
              "plasma     0.129459  1.000000  0.152590  ...  0.137337  0.263514  0.466581\n",
              "pressure   0.141282  0.152590  1.000000  ...  0.041265  0.239528  0.065068\n",
              "thickness -0.081672  0.057328  0.207371  ...  0.183928 -0.113970  0.074752\n",
              "insulin   -0.073535  0.331357  0.088933  ...  0.185071 -0.042163  0.130548\n",
              "bmi        0.017683  0.221071  0.281805  ...  0.140647  0.036242  0.292695\n",
              "pedigree  -0.033523  0.137337  0.041265  ...  1.000000  0.033561  0.173844\n",
              "age        0.544341  0.263514  0.239528  ...  0.033561  1.000000  0.238356\n",
              "class      0.221898  0.466581  0.065068  ...  0.173844  0.238356  1.000000\n",
              "\n",
              "[9 rows x 9 columns]"
            ]
          },
          "metadata": {},
          "execution_count": 54
        }
      ]
    },
    {
      "cell_type": "code",
      "source": [
        "sns.heatmap(df.corr(), linewidths=0.1, vmax=0.5, cmap = plt.cm.gist_heat, annot=True)"
      ],
      "metadata": {
        "colab": {
          "base_uri": "https://localhost:8080/",
          "height": 325
        },
        "id": "BjmyRkJ6V6Sm",
        "outputId": "8ddfc25e-4986-4f00-fbf5-90a0bbb6c4d3"
      },
      "execution_count": 57,
      "outputs": [
        {
          "output_type": "execute_result",
          "data": {
            "text/plain": [
              "<matplotlib.axes._subplots.AxesSubplot at 0x7fc2379e1690>"
            ]
          },
          "metadata": {},
          "execution_count": 57
        },
        {
          "output_type": "display_data",
          "data": {
            "image/png": "[encoded data removed]",
            "text/plain": [
              "<Figure size 432x288 with 2 Axes>"
            ]
          },
          "metadata": {
            "needs_background": "light"
          }
        }
      ]
    },
    {
      "cell_type": "code",
      "source": [
        "grid = sns.FacetGrid(df, col='class')\n",
        "grid.map(plt.hist, 'plasma', bins=10)\n",
        "plt.show()"
      ],
      "metadata": {
        "colab": {
          "base_uri": "https://localhost:8080/",
          "height": 225
        },
        "id": "nDL6yE-CWB-4",
        "outputId": "2c3a232b-02fe-4b9f-e2bc-caeae4f584b0"
      },
      "execution_count": 59,
      "outputs": [
        {
          "output_type": "display_data",
          "data": {
            "image/png": "[encoded data removed]",
            "text/plain": [
              "<Figure size 432x216 with 2 Axes>"
            ]
          },
          "metadata": {
            "needs_background": "light"
          }
        }
      ]
    },
    {
      "cell_type": "code",
      "source": [
        "# 예측 모델\n",
        "dataset = np.loadtxt('data/pima-indians-diabetes.csv', delimiter=\",\")\n",
        "np.random.seed(3)\n",
        "tf.random.set_seed(3)\n",
        "x=dataset[:,0:8]\n",
        "y=dataset[:,8]"
      ],
      "metadata": {
        "id": "J4Akxk2CWvDa"
      },
      "execution_count": 75,
      "outputs": []
    },
    {
      "cell_type": "code",
      "source": [
        "model = Sequential()\n",
        "model.add(Dense(12,input_dim=8, activation ='relu'))\n",
        "model.add(Dense(8, activation='relu'))\n",
        "model.add(Dense(1, activation='sigmoid'))\n"
      ],
      "metadata": {
        "id": "oGGhAbv-XEMj"
      },
      "execution_count": 76,
      "outputs": []
    },
    {
      "cell_type": "code",
      "source": [
        "model.compile(loss='binary_crossentropy', optimizer='adam',metrics=['accuracy'])\n",
        "model.fit(x,y, epochs=200, batch_size=10)"
      ],
      "metadata": {
        "colab": {
          "base_uri": "https://localhost:8080/"
        },
        "id": "247jwqX6XV37",
        "outputId": "228df7f0-bb66-4850-e715-62211a76aa17"
      },
      "execution_count": 78,
      "outputs": [
        {
          "output_type": "stream",
          "name": "stdout",
          "text": [
            "Epoch 1/200\n",
            "77/77 [==============================] - 1s 1ms/step - loss: 10.5440 - accuracy: 0.6159\n",
            "Epoch 2/200\n",
            "77/77 [==============================] - 0s 1ms/step - loss: 5.4367 - accuracy: 0.6029\n",
            "Epoch 3/200\n",
            "77/77 [==============================] - 0s 2ms/step - loss: 2.9292 - accuracy: 0.5208\n",
            "Epoch 4/200\n",
            "77/77 [==============================] - 0s 2ms/step - loss: 1.5346 - accuracy: 0.5208\n",
            "Epoch 5/200\n",
            "77/77 [==============================] - 0s 2ms/step - loss: 0.8896 - accuracy: 0.5000\n",
            "Epoch 6/200\n",
            "77/77 [==============================] - 0s 2ms/step - loss: 0.8072 - accuracy: 0.5234\n",
            "Epoch 7/200\n",
            "77/77 [==============================] - 0s 2ms/step - loss: 0.7655 - accuracy: 0.6549\n",
            "Epoch 8/200\n",
            "77/77 [==============================] - 0s 2ms/step - loss: 0.7306 - accuracy: 0.6628\n",
            "Epoch 9/200\n",
            "77/77 [==============================] - 0s 2ms/step - loss: 0.6943 - accuracy: 0.6706\n",
            "Epoch 10/200\n",
            "77/77 [==============================] - 0s 1ms/step - loss: 0.6656 - accuracy: 0.6758\n",
            "Epoch 11/200\n",
            "77/77 [==============================] - 0s 2ms/step - loss: 0.6390 - accuracy: 0.6797\n",
            "Epoch 12/200\n",
            "77/77 [==============================] - 0s 2ms/step - loss: 0.6198 - accuracy: 0.6823\n",
            "Epoch 13/200\n",
            "77/77 [==============================] - 0s 2ms/step - loss: 0.6072 - accuracy: 0.6979\n",
            "Epoch 14/200\n",
            "77/77 [==============================] - 0s 1ms/step - loss: 0.6112 - accuracy: 0.6966\n",
            "Epoch 15/200\n",
            "77/77 [==============================] - 0s 2ms/step - loss: 0.5993 - accuracy: 0.7005\n",
            "Epoch 16/200\n",
            "77/77 [==============================] - 0s 1ms/step - loss: 0.5894 - accuracy: 0.6940\n",
            "Epoch 17/200\n",
            "77/77 [==============================] - 0s 1ms/step - loss: 0.5915 - accuracy: 0.7057\n",
            "Epoch 18/200\n",
            "77/77 [==============================] - 0s 2ms/step - loss: 0.5854 - accuracy: 0.7122\n",
            "Epoch 19/200\n",
            "77/77 [==============================] - 0s 1ms/step - loss: 0.5873 - accuracy: 0.6992\n",
            "Epoch 20/200\n",
            "77/77 [==============================] - 0s 1ms/step - loss: 0.5820 - accuracy: 0.7070\n",
            "Epoch 21/200\n",
            "77/77 [==============================] - 0s 2ms/step - loss: 0.5838 - accuracy: 0.6810\n",
            "Epoch 22/200\n",
            "77/77 [==============================] - 0s 1ms/step - loss: 0.5759 - accuracy: 0.7109\n",
            "Epoch 23/200\n",
            "77/77 [==============================] - 0s 2ms/step - loss: 0.5752 - accuracy: 0.7148\n",
            "Epoch 24/200\n",
            "77/77 [==============================] - 0s 2ms/step - loss: 0.5767 - accuracy: 0.7070\n",
            "Epoch 25/200\n",
            "77/77 [==============================] - 0s 1ms/step - loss: 0.5737 - accuracy: 0.7122\n",
            "Epoch 26/200\n",
            "77/77 [==============================] - 0s 2ms/step - loss: 0.5664 - accuracy: 0.7161\n",
            "Epoch 27/200\n",
            "77/77 [==============================] - 0s 2ms/step - loss: 0.5801 - accuracy: 0.7057\n",
            "Epoch 28/200\n",
            "77/77 [==============================] - 0s 2ms/step - loss: 0.5755 - accuracy: 0.7174\n",
            "Epoch 29/200\n",
            "77/77 [==============================] - 0s 1ms/step - loss: 0.5654 - accuracy: 0.7161\n",
            "Epoch 30/200\n",
            "77/77 [==============================] - 0s 2ms/step - loss: 0.5635 - accuracy: 0.7188\n",
            "Epoch 31/200\n",
            "77/77 [==============================] - 0s 1ms/step - loss: 0.5602 - accuracy: 0.7122\n",
            "Epoch 32/200\n",
            "77/77 [==============================] - 0s 2ms/step - loss: 0.5683 - accuracy: 0.7109\n",
            "Epoch 33/200\n",
            "77/77 [==============================] - 0s 1ms/step - loss: 0.5661 - accuracy: 0.7018\n",
            "Epoch 34/200\n",
            "77/77 [==============================] - 0s 1ms/step - loss: 0.5578 - accuracy: 0.7214\n",
            "Epoch 35/200\n",
            "77/77 [==============================] - 0s 1ms/step - loss: 0.5563 - accuracy: 0.7305\n",
            "Epoch 36/200\n",
            "77/77 [==============================] - 0s 2ms/step - loss: 0.5657 - accuracy: 0.7122\n",
            "Epoch 37/200\n",
            "77/77 [==============================] - 0s 1ms/step - loss: 0.5529 - accuracy: 0.7070\n",
            "Epoch 38/200\n",
            "77/77 [==============================] - 0s 2ms/step - loss: 0.5537 - accuracy: 0.7227\n",
            "Epoch 39/200\n",
            "77/77 [==============================] - 0s 1ms/step - loss: 0.5552 - accuracy: 0.7174\n",
            "Epoch 40/200\n",
            "77/77 [==============================] - 0s 2ms/step - loss: 0.5539 - accuracy: 0.7292\n",
            "Epoch 41/200\n",
            "77/77 [==============================] - 0s 2ms/step - loss: 0.5523 - accuracy: 0.7253\n",
            "Epoch 42/200\n",
            "77/77 [==============================] - 0s 2ms/step - loss: 0.5533 - accuracy: 0.7227\n",
            "Epoch 43/200\n",
            "77/77 [==============================] - 0s 1ms/step - loss: 0.5535 - accuracy: 0.7201\n",
            "Epoch 44/200\n",
            "77/77 [==============================] - 0s 1ms/step - loss: 0.5433 - accuracy: 0.7240\n",
            "Epoch 45/200\n",
            "77/77 [==============================] - 0s 2ms/step - loss: 0.5648 - accuracy: 0.7122\n",
            "Epoch 46/200\n",
            "77/77 [==============================] - 0s 1ms/step - loss: 0.5478 - accuracy: 0.7161\n",
            "Epoch 47/200\n",
            "77/77 [==============================] - 0s 1ms/step - loss: 0.5480 - accuracy: 0.7266\n",
            "Epoch 48/200\n",
            "77/77 [==============================] - 0s 2ms/step - loss: 0.5413 - accuracy: 0.7318\n",
            "Epoch 49/200\n",
            "77/77 [==============================] - 0s 2ms/step - loss: 0.5410 - accuracy: 0.7253\n",
            "Epoch 50/200\n",
            "77/77 [==============================] - 0s 1ms/step - loss: 0.5396 - accuracy: 0.7318\n",
            "Epoch 51/200\n",
            "77/77 [==============================] - 0s 1ms/step - loss: 0.5349 - accuracy: 0.7279\n",
            "Epoch 52/200\n",
            "77/77 [==============================] - 0s 1ms/step - loss: 0.5345 - accuracy: 0.7383\n",
            "Epoch 53/200\n",
            "77/77 [==============================] - 0s 1ms/step - loss: 0.5354 - accuracy: 0.7240\n",
            "Epoch 54/200\n",
            "77/77 [==============================] - 0s 2ms/step - loss: 0.5387 - accuracy: 0.7188\n",
            "Epoch 55/200\n",
            "77/77 [==============================] - 0s 2ms/step - loss: 0.5336 - accuracy: 0.7253\n",
            "Epoch 56/200\n",
            "77/77 [==============================] - 0s 1ms/step - loss: 0.5412 - accuracy: 0.7174\n",
            "Epoch 57/200\n",
            "77/77 [==============================] - 0s 2ms/step - loss: 0.5511 - accuracy: 0.7240\n",
            "Epoch 58/200\n",
            "77/77 [==============================] - 0s 1ms/step - loss: 0.5298 - accuracy: 0.7331\n",
            "Epoch 59/200\n",
            "77/77 [==============================] - 0s 1ms/step - loss: 0.5324 - accuracy: 0.7344\n",
            "Epoch 60/200\n",
            "77/77 [==============================] - 0s 1ms/step - loss: 0.5280 - accuracy: 0.7292\n",
            "Epoch 61/200\n",
            "77/77 [==============================] - 0s 1ms/step - loss: 0.5304 - accuracy: 0.7292\n",
            "Epoch 62/200\n",
            "77/77 [==============================] - 0s 2ms/step - loss: 0.5373 - accuracy: 0.7214\n",
            "Epoch 63/200\n",
            "77/77 [==============================] - 0s 1ms/step - loss: 0.5283 - accuracy: 0.7357\n",
            "Epoch 64/200\n",
            "77/77 [==============================] - 0s 2ms/step - loss: 0.5234 - accuracy: 0.7396\n",
            "Epoch 65/200\n",
            "77/77 [==============================] - 0s 1ms/step - loss: 0.5239 - accuracy: 0.7383\n",
            "Epoch 66/200\n",
            "77/77 [==============================] - 0s 2ms/step - loss: 0.5215 - accuracy: 0.7344\n",
            "Epoch 67/200\n",
            "77/77 [==============================] - 0s 1ms/step - loss: 0.5193 - accuracy: 0.7396\n",
            "Epoch 68/200\n",
            "77/77 [==============================] - 0s 1ms/step - loss: 0.5241 - accuracy: 0.7357\n",
            "Epoch 69/200\n",
            "77/77 [==============================] - 0s 1ms/step - loss: 0.5224 - accuracy: 0.7370\n",
            "Epoch 70/200\n",
            "77/77 [==============================] - 0s 1ms/step - loss: 0.5183 - accuracy: 0.7383\n",
            "Epoch 71/200\n",
            "77/77 [==============================] - 0s 1ms/step - loss: 0.5164 - accuracy: 0.7344\n",
            "Epoch 72/200\n",
            "77/77 [==============================] - 0s 2ms/step - loss: 0.5182 - accuracy: 0.7357\n",
            "Epoch 73/200\n",
            "77/77 [==============================] - 0s 1ms/step - loss: 0.5178 - accuracy: 0.7292\n",
            "Epoch 74/200\n",
            "77/77 [==============================] - 0s 2ms/step - loss: 0.5187 - accuracy: 0.7396\n",
            "Epoch 75/200\n",
            "77/77 [==============================] - 0s 1ms/step - loss: 0.5240 - accuracy: 0.7344\n",
            "Epoch 76/200\n",
            "77/77 [==============================] - 0s 1ms/step - loss: 0.5209 - accuracy: 0.7370\n",
            "Epoch 77/200\n",
            "77/77 [==============================] - 0s 2ms/step - loss: 0.5177 - accuracy: 0.7331\n",
            "Epoch 78/200\n",
            "77/77 [==============================] - 0s 2ms/step - loss: 0.5169 - accuracy: 0.7370\n",
            "Epoch 79/200\n",
            "77/77 [==============================] - 0s 2ms/step - loss: 0.5225 - accuracy: 0.7318\n",
            "Epoch 80/200\n",
            "77/77 [==============================] - 0s 2ms/step - loss: 0.5092 - accuracy: 0.7435\n",
            "Epoch 81/200\n",
            "77/77 [==============================] - 0s 2ms/step - loss: 0.5121 - accuracy: 0.7422\n",
            "Epoch 82/200\n",
            "77/77 [==============================] - 0s 1ms/step - loss: 0.5087 - accuracy: 0.7461\n",
            "Epoch 83/200\n",
            "77/77 [==============================] - 0s 2ms/step - loss: 0.5171 - accuracy: 0.7344\n",
            "Epoch 84/200\n",
            "77/77 [==============================] - 0s 1ms/step - loss: 0.5120 - accuracy: 0.7305\n",
            "Epoch 85/200\n",
            "77/77 [==============================] - 0s 1ms/step - loss: 0.5088 - accuracy: 0.7461\n",
            "Epoch 86/200\n",
            "77/77 [==============================] - 0s 2ms/step - loss: 0.5046 - accuracy: 0.7513\n",
            "Epoch 87/200\n",
            "77/77 [==============================] - 0s 2ms/step - loss: 0.5061 - accuracy: 0.7500\n",
            "Epoch 88/200\n",
            "77/77 [==============================] - 0s 2ms/step - loss: 0.5073 - accuracy: 0.7500\n",
            "Epoch 89/200\n",
            "77/77 [==============================] - 0s 2ms/step - loss: 0.5080 - accuracy: 0.7474\n",
            "Epoch 90/200\n",
            "77/77 [==============================] - 0s 1ms/step - loss: 0.5111 - accuracy: 0.7357\n",
            "Epoch 91/200\n",
            "77/77 [==============================] - 0s 2ms/step - loss: 0.5293 - accuracy: 0.7305\n",
            "Epoch 92/200\n",
            "77/77 [==============================] - 0s 2ms/step - loss: 0.5144 - accuracy: 0.7513\n",
            "Epoch 93/200\n",
            "77/77 [==============================] - 0s 1ms/step - loss: 0.5008 - accuracy: 0.7513\n",
            "Epoch 94/200\n",
            "77/77 [==============================] - 0s 2ms/step - loss: 0.5034 - accuracy: 0.7461\n",
            "Epoch 95/200\n",
            "77/77 [==============================] - 0s 2ms/step - loss: 0.5097 - accuracy: 0.7448\n",
            "Epoch 96/200\n",
            "77/77 [==============================] - 0s 2ms/step - loss: 0.4999 - accuracy: 0.7318\n",
            "Epoch 97/200\n",
            "77/77 [==============================] - 0s 1ms/step - loss: 0.4978 - accuracy: 0.7552\n",
            "Epoch 98/200\n",
            "77/77 [==============================] - 0s 2ms/step - loss: 0.5050 - accuracy: 0.7344\n",
            "Epoch 99/200\n",
            "77/77 [==============================] - 0s 2ms/step - loss: 0.5071 - accuracy: 0.7500\n",
            "Epoch 100/200\n",
            "77/77 [==============================] - 0s 1ms/step - loss: 0.5004 - accuracy: 0.7513\n",
            "Epoch 101/200\n",
            "77/77 [==============================] - 0s 2ms/step - loss: 0.5015 - accuracy: 0.7448\n",
            "Epoch 102/200\n",
            "77/77 [==============================] - 0s 1ms/step - loss: 0.4960 - accuracy: 0.7526\n",
            "Epoch 103/200\n",
            "77/77 [==============================] - 0s 1ms/step - loss: 0.5054 - accuracy: 0.7409\n",
            "Epoch 104/200\n",
            "77/77 [==============================] - 0s 2ms/step - loss: 0.4959 - accuracy: 0.7552\n",
            "Epoch 105/200\n",
            "77/77 [==============================] - 0s 1ms/step - loss: 0.4943 - accuracy: 0.7487\n",
            "Epoch 106/200\n",
            "77/77 [==============================] - 0s 2ms/step - loss: 0.5006 - accuracy: 0.7526\n",
            "Epoch 107/200\n",
            "77/77 [==============================] - 0s 2ms/step - loss: 0.5023 - accuracy: 0.7539\n",
            "Epoch 108/200\n",
            "77/77 [==============================] - 0s 1ms/step - loss: 0.5055 - accuracy: 0.7526\n",
            "Epoch 109/200\n",
            "77/77 [==============================] - 0s 1ms/step - loss: 0.4918 - accuracy: 0.7487\n",
            "Epoch 110/200\n",
            "77/77 [==============================] - 0s 1ms/step - loss: 0.5006 - accuracy: 0.7578\n",
            "Epoch 111/200\n",
            "77/77 [==============================] - 0s 2ms/step - loss: 0.4911 - accuracy: 0.7617\n",
            "Epoch 112/200\n",
            "77/77 [==============================] - 0s 1ms/step - loss: 0.4916 - accuracy: 0.7500\n",
            "Epoch 113/200\n",
            "77/77 [==============================] - 0s 1ms/step - loss: 0.4930 - accuracy: 0.7539\n",
            "Epoch 114/200\n",
            "77/77 [==============================] - 0s 2ms/step - loss: 0.4937 - accuracy: 0.7578\n",
            "Epoch 115/200\n",
            "77/77 [==============================] - 0s 1ms/step - loss: 0.4932 - accuracy: 0.7565\n",
            "Epoch 116/200\n",
            "77/77 [==============================] - 0s 2ms/step - loss: 0.4913 - accuracy: 0.7474\n",
            "Epoch 117/200\n",
            "77/77 [==============================] - 0s 2ms/step - loss: 0.4969 - accuracy: 0.7539\n",
            "Epoch 118/200\n",
            "77/77 [==============================] - 0s 1ms/step - loss: 0.4920 - accuracy: 0.7474\n",
            "Epoch 119/200\n",
            "77/77 [==============================] - 0s 2ms/step - loss: 0.5022 - accuracy: 0.7552\n",
            "Epoch 120/200\n",
            "77/77 [==============================] - 0s 2ms/step - loss: 0.4908 - accuracy: 0.7461\n",
            "Epoch 121/200\n",
            "77/77 [==============================] - 0s 2ms/step - loss: 0.4847 - accuracy: 0.7526\n",
            "Epoch 122/200\n",
            "77/77 [==============================] - 0s 2ms/step - loss: 0.4915 - accuracy: 0.7461\n",
            "Epoch 123/200\n",
            "77/77 [==============================] - 0s 1ms/step - loss: 0.4918 - accuracy: 0.7461\n",
            "Epoch 124/200\n",
            "77/77 [==============================] - 0s 2ms/step - loss: 0.4932 - accuracy: 0.7487\n",
            "Epoch 125/200\n",
            "77/77 [==============================] - 0s 1ms/step - loss: 0.4904 - accuracy: 0.7539\n",
            "Epoch 126/200\n",
            "77/77 [==============================] - 0s 2ms/step - loss: 0.4814 - accuracy: 0.7630\n",
            "Epoch 127/200\n",
            "77/77 [==============================] - 0s 2ms/step - loss: 0.4960 - accuracy: 0.7578\n",
            "Epoch 128/200\n",
            "77/77 [==============================] - 0s 1ms/step - loss: 0.4880 - accuracy: 0.7591\n",
            "Epoch 129/200\n",
            "77/77 [==============================] - 0s 2ms/step - loss: 0.4992 - accuracy: 0.7331\n",
            "Epoch 130/200\n",
            "77/77 [==============================] - 0s 2ms/step - loss: 0.4868 - accuracy: 0.7565\n",
            "Epoch 131/200\n",
            "77/77 [==============================] - 0s 1ms/step - loss: 0.4831 - accuracy: 0.7695\n",
            "Epoch 132/200\n",
            "77/77 [==============================] - 0s 2ms/step - loss: 0.4854 - accuracy: 0.7552\n",
            "Epoch 133/200\n",
            "77/77 [==============================] - 0s 1ms/step - loss: 0.4851 - accuracy: 0.7643\n",
            "Epoch 134/200\n",
            "77/77 [==============================] - 0s 2ms/step - loss: 0.4904 - accuracy: 0.7513\n",
            "Epoch 135/200\n",
            "77/77 [==============================] - 0s 2ms/step - loss: 0.4940 - accuracy: 0.7500\n",
            "Epoch 136/200\n",
            "77/77 [==============================] - 0s 2ms/step - loss: 0.4827 - accuracy: 0.7435\n",
            "Epoch 137/200\n",
            "77/77 [==============================] - 0s 1ms/step - loss: 0.4884 - accuracy: 0.7539\n",
            "Epoch 138/200\n",
            "77/77 [==============================] - 0s 2ms/step - loss: 0.4964 - accuracy: 0.7539\n",
            "Epoch 139/200\n",
            "77/77 [==============================] - 0s 2ms/step - loss: 0.4841 - accuracy: 0.7578\n",
            "Epoch 140/200\n",
            "77/77 [==============================] - 0s 2ms/step - loss: 0.4849 - accuracy: 0.7695\n",
            "Epoch 141/200\n",
            "77/77 [==============================] - 0s 2ms/step - loss: 0.4792 - accuracy: 0.7539\n",
            "Epoch 142/200\n",
            "77/77 [==============================] - 0s 2ms/step - loss: 0.4827 - accuracy: 0.7591\n",
            "Epoch 143/200\n",
            "77/77 [==============================] - 0s 2ms/step - loss: 0.4916 - accuracy: 0.7604\n",
            "Epoch 144/200\n",
            "77/77 [==============================] - 0s 2ms/step - loss: 0.4814 - accuracy: 0.7578\n",
            "Epoch 145/200\n",
            "77/77 [==============================] - 0s 2ms/step - loss: 0.4941 - accuracy: 0.7526\n",
            "Epoch 146/200\n",
            "77/77 [==============================] - 0s 1ms/step - loss: 0.4922 - accuracy: 0.7604\n",
            "Epoch 147/200\n",
            "77/77 [==============================] - 0s 2ms/step - loss: 0.4797 - accuracy: 0.7513\n",
            "Epoch 148/200\n",
            "77/77 [==============================] - 0s 2ms/step - loss: 0.4808 - accuracy: 0.7513\n",
            "Epoch 149/200\n",
            "77/77 [==============================] - 0s 2ms/step - loss: 0.4880 - accuracy: 0.7578\n",
            "Epoch 150/200\n",
            "77/77 [==============================] - 0s 2ms/step - loss: 0.4795 - accuracy: 0.7591\n",
            "Epoch 151/200\n",
            "77/77 [==============================] - 0s 2ms/step - loss: 0.4826 - accuracy: 0.7630\n",
            "Epoch 152/200\n",
            "77/77 [==============================] - 0s 2ms/step - loss: 0.4801 - accuracy: 0.7513\n",
            "Epoch 153/200\n",
            "77/77 [==============================] - 0s 1ms/step - loss: 0.4805 - accuracy: 0.7604\n",
            "Epoch 154/200\n",
            "77/77 [==============================] - 0s 2ms/step - loss: 0.4812 - accuracy: 0.7656\n",
            "Epoch 155/200\n",
            "77/77 [==============================] - 0s 1ms/step - loss: 0.4752 - accuracy: 0.7591\n",
            "Epoch 156/200\n",
            "77/77 [==============================] - 0s 2ms/step - loss: 0.4727 - accuracy: 0.7734\n",
            "Epoch 157/200\n",
            "77/77 [==============================] - 0s 2ms/step - loss: 0.4836 - accuracy: 0.7539\n",
            "Epoch 158/200\n",
            "77/77 [==============================] - 0s 1ms/step - loss: 0.4739 - accuracy: 0.7695\n",
            "Epoch 159/200\n",
            "77/77 [==============================] - 0s 2ms/step - loss: 0.4784 - accuracy: 0.7656\n",
            "Epoch 160/200\n",
            "77/77 [==============================] - 0s 2ms/step - loss: 0.4852 - accuracy: 0.7513\n",
            "Epoch 161/200\n",
            "77/77 [==============================] - 0s 2ms/step - loss: 0.4800 - accuracy: 0.7630\n",
            "Epoch 162/200\n",
            "77/77 [==============================] - 0s 2ms/step - loss: 0.4807 - accuracy: 0.7565\n",
            "Epoch 163/200\n",
            "77/77 [==============================] - 0s 2ms/step - loss: 0.4775 - accuracy: 0.7643\n",
            "Epoch 164/200\n",
            "77/77 [==============================] - 0s 2ms/step - loss: 0.4781 - accuracy: 0.7643\n",
            "Epoch 165/200\n",
            "77/77 [==============================] - 0s 2ms/step - loss: 0.4844 - accuracy: 0.7526\n",
            "Epoch 166/200\n",
            "77/77 [==============================] - 0s 2ms/step - loss: 0.4726 - accuracy: 0.7734\n",
            "Epoch 167/200\n",
            "77/77 [==============================] - 0s 1ms/step - loss: 0.4676 - accuracy: 0.7695\n",
            "Epoch 168/200\n",
            "77/77 [==============================] - 0s 2ms/step - loss: 0.4768 - accuracy: 0.7643\n",
            "Epoch 169/200\n",
            "77/77 [==============================] - 0s 1ms/step - loss: 0.4706 - accuracy: 0.7643\n",
            "Epoch 170/200\n",
            "77/77 [==============================] - 0s 2ms/step - loss: 0.4778 - accuracy: 0.7656\n",
            "Epoch 171/200\n",
            "77/77 [==============================] - 0s 1ms/step - loss: 0.4660 - accuracy: 0.7630\n",
            "Epoch 172/200\n",
            "77/77 [==============================] - 0s 2ms/step - loss: 0.4719 - accuracy: 0.7656\n",
            "Epoch 173/200\n",
            "77/77 [==============================] - 0s 2ms/step - loss: 0.4760 - accuracy: 0.7734\n",
            "Epoch 174/200\n",
            "77/77 [==============================] - 0s 1ms/step - loss: 0.4660 - accuracy: 0.7630\n",
            "Epoch 175/200\n",
            "77/77 [==============================] - 0s 2ms/step - loss: 0.4746 - accuracy: 0.7786\n",
            "Epoch 176/200\n",
            "77/77 [==============================] - 0s 2ms/step - loss: 0.4698 - accuracy: 0.7591\n",
            "Epoch 177/200\n",
            "77/77 [==============================] - 0s 1ms/step - loss: 0.4734 - accuracy: 0.7695\n",
            "Epoch 178/200\n",
            "77/77 [==============================] - 0s 2ms/step - loss: 0.4700 - accuracy: 0.7643\n",
            "Epoch 179/200\n",
            "77/77 [==============================] - 0s 2ms/step - loss: 0.4757 - accuracy: 0.7695\n",
            "Epoch 180/200\n",
            "77/77 [==============================] - 0s 2ms/step - loss: 0.4655 - accuracy: 0.7552\n",
            "Epoch 181/200\n",
            "77/77 [==============================] - 0s 2ms/step - loss: 0.4737 - accuracy: 0.7708\n",
            "Epoch 182/200\n",
            "77/77 [==============================] - 0s 2ms/step - loss: 0.4818 - accuracy: 0.7682\n",
            "Epoch 183/200\n",
            "77/77 [==============================] - 0s 2ms/step - loss: 0.4652 - accuracy: 0.7539\n",
            "Epoch 184/200\n",
            "77/77 [==============================] - 0s 2ms/step - loss: 0.4645 - accuracy: 0.7734\n",
            "Epoch 185/200\n",
            "77/77 [==============================] - 0s 2ms/step - loss: 0.4666 - accuracy: 0.7682\n",
            "Epoch 186/200\n",
            "77/77 [==============================] - 0s 2ms/step - loss: 0.4669 - accuracy: 0.7721\n",
            "Epoch 187/200\n",
            "77/77 [==============================] - 0s 2ms/step - loss: 0.4782 - accuracy: 0.7643\n",
            "Epoch 188/200\n",
            "77/77 [==============================] - 0s 2ms/step - loss: 0.4758 - accuracy: 0.7721\n",
            "Epoch 189/200\n",
            "77/77 [==============================] - 0s 2ms/step - loss: 0.4657 - accuracy: 0.7760\n",
            "Epoch 190/200\n",
            "77/77 [==============================] - 0s 2ms/step - loss: 0.4687 - accuracy: 0.7760\n",
            "Epoch 191/200\n",
            "77/77 [==============================] - 0s 2ms/step - loss: 0.4675 - accuracy: 0.7669\n",
            "Epoch 192/200\n",
            "77/77 [==============================] - 0s 2ms/step - loss: 0.4675 - accuracy: 0.7565\n",
            "Epoch 193/200\n",
            "77/77 [==============================] - 0s 2ms/step - loss: 0.4743 - accuracy: 0.7799\n",
            "Epoch 194/200\n",
            "77/77 [==============================] - 0s 1ms/step - loss: 0.4765 - accuracy: 0.7695\n",
            "Epoch 195/200\n",
            "77/77 [==============================] - 0s 2ms/step - loss: 0.4664 - accuracy: 0.7682\n",
            "Epoch 196/200\n",
            "77/77 [==============================] - 0s 2ms/step - loss: 0.4741 - accuracy: 0.7669\n",
            "Epoch 197/200\n",
            "77/77 [==============================] - 0s 2ms/step - loss: 0.4734 - accuracy: 0.7747\n",
            "Epoch 198/200\n",
            "77/77 [==============================] - 0s 2ms/step - loss: 0.4668 - accuracy: 0.7578\n",
            "Epoch 199/200\n",
            "77/77 [==============================] - 0s 1ms/step - loss: 0.4679 - accuracy: 0.7760\n",
            "Epoch 200/200\n",
            "77/77 [==============================] - 0s 2ms/step - loss: 0.4662 - accuracy: 0.7721\n"
          ]
        },
        {
          "output_type": "execute_result",
          "data": {
            "text/plain": [
              "<keras.callbacks.History at 0x7fc236bf1c50>"
            ]
          },
          "metadata": {},
          "execution_count": 78
        }
      ]
    },
    {
      "cell_type": "code",
      "source": [
        "print(\"\\n accuracy :%.4f\"% (model.evaluate(x,y)[1]))"
      ],
      "metadata": {
        "colab": {
          "base_uri": "https://localhost:8080/"
        },
        "id": "Tx2N9HUdXjNE",
        "outputId": "4418dc87-f806-4b43-f4ef-00b3b1e83a6f"
      },
      "execution_count": 80,
      "outputs": [
        {
          "output_type": "stream",
          "name": "stdout",
          "text": [
            "24/24 [==============================] - 0s 1ms/step - loss: 0.4587 - accuracy: 0.7708\n",
            "\n",
            " accuracy :0.7708\n"
          ]
        }
      ]
    },
    {
      "cell_type": "code",
      "source": [
        ""
      ],
      "metadata": {
        "id": "nFxYgYkUYrbt"
      },
      "execution_count": null,
      "outputs": []
    }
  ]
}